{
 "cells": [
  {
   "cell_type": "markdown",
   "metadata": {},
   "source": [
    "## Load up data and generate features"
   ]
  },
  {
   "cell_type": "code",
   "execution_count": 9,
   "metadata": {
    "collapsed": false
   },
   "outputs": [
    {
     "name": "stdout",
     "output_type": "stream",
     "text": [
      "Loading ../Meeting-3/heli6_short.wav\n",
      "Loading ../Meeting-3/heli5_short.wav\n",
      "Loading ../Meeting-3/heli4_short.wav\n",
      "Loading ../Meeting-3/heli2_short.wav\n",
      "Loading ../Meeting-3/heli7_short.wav\n",
      "Loading ../Meeting-3/heli9_short.wav\n",
      "Loading ../Meeting-3/boat3_short.wav\n",
      "Loading ../Meeting-3/heli1_short.wav\n",
      "Loading ../Meeting-3/boat0_short.wav\n",
      "Loading ../Meeting-3/heli0_short.wav\n",
      "Loading ../Meeting-3/boat8_short.wav\n",
      "Loading ../Meeting-3/boat7_short.wav\n",
      "Loading ../Meeting-3/boat2_short.wav\n",
      "Loading ../Meeting-3/heli8_short.wav\n",
      "Loading ../Meeting-3/boat4_short.wav\n",
      "Loading ../Meeting-3/heli3_short.wav\n",
      "Loading ../Meeting-3/boat1_short.wav\n",
      "Loading ../Meeting-3/boat9_short.wav\n",
      "Loading ../Meeting-3/boat6_short.wav\n",
      "Loading ../Meeting-3/boat5_short.wav\n",
      "Nice!\n"
     ]
    }
   ],
   "source": [
    "import sys\n",
    "sys.path.append('..')\n",
    "\n",
    "import audio\n",
    "import features\n",
    "import glob\n",
    "import numpy as np\n",
    "\n",
    "X_heli = None\n",
    "X_boat = None\n",
    "\n",
    "files = glob.glob(\"../Meeting-3/*.wav\")\n",
    "\n",
    "for file in files:\n",
    "    print(\"Loading \" + file)\n",
    "    raw = audio.import_wav(file)\n",
    "\n",
    "    # Generate each type of feature\n",
    "    corr = features.gen_correlogram(raw)\n",
    "    mag_spec = features.gen_mag_spec(raw)\n",
    "    \n",
    "    # Combine into a single vector for each observation\n",
    "    f_vect = np.concatenate((corr.T, mag_spec.T), axis=1)\n",
    "    #f_vect = mag_spec.T\n",
    "    \n",
    "    # Combine all observations into a single matrix\n",
    "    if file.find('boat') != -1:\n",
    "        if X_heli is not None:\n",
    "            X_heli = np.concatenate((X_heli, f_vect), axis=0)\n",
    "        else:\n",
    "            X_heli = f_vect\n",
    "    else:\n",
    "        if X_boat is not None:\n",
    "            X_boat = np.concatenate((X_boat, f_vect), axis=0)\n",
    "        else:\n",
    "            X_boat = f_vect\n",
    "\n",
    "# Assign labels manually\n",
    "Y_boat = np.zeros((X_boat.shape[0], 1))\n",
    "Y_heli = np.ones((X_heli.shape[0], 1))\n",
    "\n",
    "print(\"Nice!\")"
   ]
  },
  {
   "cell_type": "markdown",
   "metadata": {},
   "source": [
    "## Check output"
   ]
  },
  {
   "cell_type": "code",
   "execution_count": 10,
   "metadata": {
    "collapsed": false
   },
   "outputs": [
    {
     "data": {
      "image/png": "[encoded data removed]",
      "text/plain": [
       "<matplotlib.figure.Figure at 0x7fc9748776a0>"
      ]
     },
     "metadata": {},
     "output_type": "display_data"
    },
    {
     "data": {
      "text/plain": [
       "(8620, 2305)"
      ]
     },
     "execution_count": 10,
     "metadata": {},
     "output_type": "execute_result"
    }
   ],
   "source": [
    "import matplotlib.pyplot as plt\n",
    "\n",
    "plt.plot(X_boat[:50, :].T)\n",
    "plt.show()\n",
    "X_boat.shape"
   ]
  },
  {
   "cell_type": "markdown",
   "metadata": {},
   "source": [
    "## Train model"
   ]
  },
  {
   "cell_type": "code",
   "execution_count": 11,
   "metadata": {
    "collapsed": false
   },
   "outputs": [
    {
     "data": {
      "text/plain": [
       "GaussianMixture(covariance_type='full', init_params='kmeans', max_iter=100,\n",
       "        means_init=None, n_components=2, n_init=1, precisions_init=None,\n",
       "        random_state=None, reg_covar=1e-06, tol=0.001, verbose=0,\n",
       "        verbose_interval=10, warm_start=False, weights_init=None)"
      ]
     },
     "execution_count": 11,
     "metadata": {},
     "output_type": "execute_result"
    }
   ],
   "source": [
    "from sklearn.mixture import GaussianMixture as GMM\n",
    "\n",
    "train_boat = X_boat[:-5120]\n",
    "train_heli = X_heli[:-5120]\n",
    "test_boat = X_boat[-5120:]\n",
    "test_heli = X_heli[-5120:]\n",
    "\n",
    "gmm = {'boat':None, 'heli':None}\n",
    "\n",
    "gmm[\"boat\"] = GMM(n_components=2)\n",
    "gmm[\"boat\"].fit(train_boat)\n",
    "\n",
    "gmm[\"heli\"] = GMM(n_components=2)\n",
    "gmm[\"heli\"].fit(train_heli)"
   ]
  },
  {
   "cell_type": "markdown",
   "metadata": {},
   "source": [
    "## Predict"
   ]
  },
  {
   "cell_type": "code",
   "execution_count": 12,
   "metadata": {
    "collapsed": false
   },
   "outputs": [
    {
     "name": "stdout",
     "output_type": "stream",
     "text": [
      "0.328125\n"
     ]
    }
   ],
   "source": [
    "test_full = np.concatenate((test_boat, test_heli), axis = 0)\n",
    "test_labels = np.concatenate((np.zeros((test_boat.shape[0], 1)), np.ones((test_heli.shape[0], 1))), axis = 0)\n",
    "\n",
    "scores = np.zeros((test_full.shape[0], 2))\n",
    "\n",
    "scores[:, 0] = gmm[\"boat\"].score_samples(test_full)\n",
    "scores[:, 1] = gmm[\"heli\"].score_samples(test_full)\n",
    "\n",
    "pred = np.greater(scores[:, 1], scores[:, 0])\n",
    "error = np.not_equal(pred, np.squeeze(test_labels))\n",
    "\n",
    "error_rate = np.sum(error) / len(error)\n",
    "print(error_rate)"
   ]
  },
  {
   "cell_type": "code",
   "execution_count": null,
   "metadata": {
    "collapsed": true
   },
   "outputs": [],
   "source": []
  }
 ],
 "metadata": {
  "anaconda-cloud": {},
  "kernelspec": {
   "display_name": "Python [conda env:mlsp]",
   "language": "python",
   "name": "conda-env-mlsp-py"
  },
  "language_info": {
   "codemirror_mode": {
    "name": "ipython",
    "version": 3
   },
   "file_extension": ".py",
   "mimetype": "text/x-python",
   "name": "python",
   "nbconvert_exporter": "python",
   "pygments_lexer": "ipython3",
   "version": "3.5.4"
  }
 },
 "nbformat": 4,
 "nbformat_minor": 1
}
