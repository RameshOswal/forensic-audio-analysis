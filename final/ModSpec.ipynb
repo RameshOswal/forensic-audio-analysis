{
 "cells": [
  {
   "cell_type": "markdown",
   "metadata": {},
   "source": [
    "# Mod Spec"
   ]
  },
  {
   "cell_type": "code",
   "execution_count": 5,
   "metadata": {
    "collapsed": true
   },
   "outputs": [],
   "source": [
    "import scipy.io\n",
    "import glob\n",
    "import numpy as np\n",
    "mod_path = '../../data/output_mats\\\\'"
   ]
  },
  {
   "cell_type": "code",
   "execution_count": 2,
   "metadata": {
    "collapsed": true
   },
   "outputs": [],
   "source": [
    "def load_mat(filename):\n",
    "    mat = scipy.io.loadmat( mod_path +  filename )\n",
    "    #mat is a dict with following keys dict_keys(['__header__', '__version__', '__globals__', 'filename'])\n",
    "    print(filename + \" file loaded\")\n",
    "    return mat[filename]"
   ]
  },
  {
   "cell_type": "code",
   "execution_count": 8,
   "metadata": {},
   "outputs": [
    {
     "name": "stdout",
     "output_type": "stream",
     "text": [
      "modspec_boat_train file loaded\n",
      "modspec_boat_test file loaded\n",
      "modspec_heli_train file loaded\n",
      "modspec_heli_test file loaded\n"
     ]
    }
   ],
   "source": [
    "modBoatTrain = load_mat('modspec_boat_train')\n",
    "modBoatTest = load_mat('modspec_boat_test')\n",
    "modHeliTrain = load_mat('modspec_heli_train')\n",
    "modHeliTest = load_mat('modspec_heli_test')"
   ]
  },
  {
   "cell_type": "code",
   "execution_count": 9,
   "metadata": {
    "collapsed": true
   },
   "outputs": [],
   "source": [
    "trainX = np.concatenate((modBoatTrain,modHeliTrain),axis=0)\n",
    "trainY = np.concatenate((np.ones((modBoatTrain.shape[0],1)) , np.zeros((modHeliTrain.shape[0],1))),axis=0)\n",
    "testX = np.concatenate((modBoatTest,modHeliTest),axis=0)\n",
    "testY = np.concatenate((np.ones((modBoatTest.shape[0],1)) , np.zeros((modHeliTest.shape[0],1))),axis=0)"
   ]
  },
  {
   "cell_type": "code",
   "execution_count": 10,
   "metadata": {},
   "outputs": [
    {
     "data": {
      "text/plain": [
       "((155853, 544), (155853, 1), (157288, 544), (157288, 1))"
      ]
     },
     "execution_count": 10,
     "metadata": {},
     "output_type": "execute_result"
    }
   ],
   "source": [
    "trainX.shape, trainY.shape, testX.shape, testY.shape"
   ]
  },
  {
   "cell_type": "code",
   "execution_count": 11,
   "metadata": {
    "collapsed": true
   },
   "outputs": [],
   "source": [
    "from sklearn.linear_model import LogisticRegression"
   ]
  },
  {
   "cell_type": "code",
   "execution_count": 16,
   "metadata": {},
   "outputs": [
    {
     "name": "stderr",
     "output_type": "stream",
     "text": [
      "C:\\Anaconda_3_5\\lib\\site-packages\\sklearn\\utils\\validation.py:578: DataConversionWarning: A column-vector y was passed when a 1d array was expected. Please change the shape of y to (n_samples, ), for example using ravel().\n",
      "  y = column_or_1d(y, warn=True)\n"
     ]
    },
    {
     "name": "stdout",
     "output_type": "stream",
     "text": [
      "0.738914233284 0.443791007578\n",
      "0.005299099334479251\n"
     ]
    }
   ],
   "source": [
    "import timeit\n",
    "\n",
    "start = timeit.timeit()\n",
    "\n",
    "clf = LogisticRegression(penalty='l2')\n",
    "clf.fit(trainX,trainY)\n",
    "print(clf.score(trainX,trainY), clf.score(testX, testY))\n",
    "\n",
    "end = timeit.timeit()\n",
    "print(end - start)\n"
   ]
  },
  {
   "cell_type": "code",
   "execution_count": 13,
   "metadata": {
    "collapsed": true
   },
   "outputs": [],
   "source": []
  },
  {
   "cell_type": "code",
   "execution_count": 22,
   "metadata": {},
   "outputs": [],
   "source": [
    "from sklearn.externals import joblib"
   ]
  },
  {
   "cell_type": "code",
   "execution_count": 15,
   "metadata": {},
   "outputs": [
    {
     "data": {
      "text/plain": [
       "['../../data/output_mats\\\\ModSpec_LR_L1.pkl']"
      ]
     },
     "execution_count": 15,
     "metadata": {},
     "output_type": "execute_result"
    }
   ],
   "source": [
    "joblib.dump(clf, mod_path + 'ModSpec_LR_L1.pkl') "
   ]
  },
  {
   "cell_type": "markdown",
   "metadata": {},
   "source": [
    "# GMM"
   ]
  },
  {
   "cell_type": "code",
   "execution_count": 19,
   "metadata": {},
   "outputs": [
    {
     "name": "stderr",
     "output_type": "stream",
     "text": [
      "C:\\Anaconda_3_5\\lib\\site-packages\\sklearn\\mixture\\base.py:237: ConvergenceWarning: Initialization 1 did not converge. Try different init parameters, or increase max_iter, tol or check for degenerate data.\n",
      "  % (init + 1), ConvergenceWarning)\n"
     ]
    },
    {
     "data": {
      "text/plain": [
       "GaussianMixture(covariance_type='full', init_params='kmeans', max_iter=100,\n",
       "        means_init=None, n_components=12, n_init=1, precisions_init=None,\n",
       "        random_state=None, reg_covar=1e-06, tol=0.001, verbose=0,\n",
       "        verbose_interval=10, warm_start=False, weights_init=None)"
      ]
     },
     "execution_count": 19,
     "metadata": {},
     "output_type": "execute_result"
    }
   ],
   "source": [
    "from sklearn.mixture import GaussianMixture as GMM\n",
    "\n",
    "train_boat =  trainX[trainY.ravel()==1]  #X_boat[:-5120]\n",
    "train_heli = trainX[trainY.ravel()==0]\n",
    "test_boat = testX[testY.ravel()==1]\n",
    "test_heli = testX[testY.ravel()==0]\n",
    "\n",
    "gmm = {'boat':None, 'heli':None}\n",
    "\n",
    "gmm[\"boat\"] = GMM(n_components=12)\n",
    "gmm[\"boat\"].fit(train_boat)\n",
    "\n",
    "gmm[\"heli\"] = GMM(n_components=12)\n",
    "gmm[\"heli\"].fit(train_heli)"
   ]
  },
  {
   "cell_type": "code",
   "execution_count": 20,
   "metadata": {},
   "outputs": [
    {
     "name": "stdout",
     "output_type": "stream",
     "text": [
      "0.720005389694\n"
     ]
    }
   ],
   "source": [
    "scores = np.zeros((trainY.shape[0], 2))\n",
    "\n",
    "scores[:, 0] = gmm[\"boat\"].score_samples(trainX)\n",
    "scores[:, 1] = gmm[\"heli\"].score_samples(trainX)\n",
    "\n",
    "pred = np.greater(scores[:, 1], scores[:, 0])\n",
    "error = np.not_equal(pred, np.squeeze(trainY))\n",
    "\n",
    "error_rate = np.sum(error) / len(error)\n",
    "print(error_rate)"
   ]
  },
  {
   "cell_type": "code",
   "execution_count": null,
   "metadata": {
    "collapsed": true
   },
   "outputs": [],
   "source": []
  }
 ],
 "metadata": {
  "kernelspec": {
   "display_name": "Python 3",
   "language": "python",
   "name": "python3"
  },
  "language_info": {
   "codemirror_mode": {
    "name": "ipython",
    "version": 3
   },
   "file_extension": ".py",
   "mimetype": "text/x-python",
   "name": "python",
   "nbconvert_exporter": "python",
   "pygments_lexer": "ipython3",
   "version": "3.6.3"
  }
 },
 "nbformat": 4,
 "nbformat_minor": 2
}
