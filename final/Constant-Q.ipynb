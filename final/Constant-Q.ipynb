{
 "cells": [
  {
   "cell_type": "code",
   "execution_count": 1,
   "metadata": {},
   "outputs": [
    {
     "data": {
      "text/latex": [
       "\\begin{align}\n",
       "X^{cq}[k_{cq} ] = \\sum_{n=0}^{N[k_eq]-1} w[n,k_{cq}]x[n]e^{-j\\Omega_{k_{cq}^n}}\n",
       "\\end{align}"
      ],
      "text/plain": [
       "<IPython.core.display.Latex object>"
      ]
     },
     "metadata": {},
     "output_type": "display_data"
    }
   ],
   "source": [
    "%%latex\n",
    "\\begin{align}\n",
    "X^{cq}[k_{cq} ] = \\sum_{n=0}^{N[k_eq]-1} w[n,k_{cq}]x[n]e^{-j\\Omega_{k_{cq}^n}}\n",
    "\\end{align}"
   ]
  },
  {
   "cell_type": "code",
   "execution_count": 6,
   "metadata": {
    "collapsed": true
   },
   "outputs": [],
   "source": [
    "import librosa, librosa.display\n",
    "import sys\n",
    "sys.path.append('..')\n",
    "import audio\n",
    "import numpy as np\n",
    "from os import listdir #To get file names from a particular dir"
   ]
  },
  {
   "cell_type": "code",
   "execution_count": 7,
   "metadata": {},
   "outputs": [],
   "source": [
    "path = \"../../data/\"\n",
    "boat_filenames = [path+\"boat/\" + f for f in listdir(path+\"boat/\") if (f[-4:] == \".wav\")]"
   ]
  },
  {
   "cell_type": "code",
   "execution_count": 18,
   "metadata": {
    "collapsed": true
   },
   "outputs": [],
   "source": [
    "def delta(a, b):\n",
    "    return a-b\n",
    "def constQFeatureExtractor(curr_col, prev_col, next_col):\n",
    "    d1 = delta(curr_col, prev_col)\n",
    "    d2 = delta(curr_col, next_col)\n",
    "    dd = delta(prev_col, next_col)\n",
    "    vector = np.concatenate((curr_col,d1,d2,dd))\n",
    "    return vector"
   ]
  },
  {
   "cell_type": "code",
   "execution_count": 19,
   "metadata": {},
   "outputs": [
    {
     "data": {
      "text/plain": [
       "array([ 1,  2, -1, -1, -3, -1, -2,  0])"
      ]
     },
     "execution_count": 19,
     "metadata": {},
     "output_type": "execute_result"
    }
   ],
   "source": [
    "constQFeatureExtractor(np.array([1,2]),np.array([2,3]),np.array([4,3]))"
   ]
  },
  {
   "cell_type": "code",
   "execution_count": 20,
   "metadata": {
    "collapsed": true
   },
   "outputs": [],
   "source": [
    "def gen_constantQ(raw_audio='', label=None):\n",
    "##   filename - path and name of file for which we need to get the constQ spectograms\n",
    "##   label = 'something' if we want to assign labels to them else None\n",
    "    X = []\n",
    "    Y = []\n",
    "    C = librosa.cqt(raw_audio[0], sr=raw_audio[1])\n",
    "    magC = np.abs(C)\n",
    "    for i in range(1,magC.shape[1]-1):\n",
    "        curr_col=magC[:,i]\n",
    "        prev_col=magC[:,i-1]\n",
    "        next_col=magC[:,i+1]\n",
    "        feature_vector = constQFeatureExtractor(curr_col=curr_col, prev_col=prev_col, next_col=next_col)\n",
    "        X += [feature_vector]\n",
    "        #Adding str(i) which says the time interval for that particular id.\n",
    "        if label != None:\n",
    "            Y += [label]\n",
    "    if label == None:\n",
    "        return np.array(X)\n",
    "    else:\n",
    "        return np.array(X),np.array(Y)\n",
    "     "
   ]
  },
  {
   "cell_type": "code",
   "execution_count": 21,
   "metadata": {},
   "outputs": [],
   "source": []
  },
  {
   "cell_type": "code",
   "execution_count": 23,
   "metadata": {},
   "outputs": [
    {
     "data": {
      "text/plain": [
       "(861, 336)"
      ]
     },
     "execution_count": 23,
     "metadata": {},
     "output_type": "execute_result"
    }
   ],
   "source": []
  },
  {
   "cell_type": "code",
   "execution_count": null,
   "metadata": {
    "collapsed": true
   },
   "outputs": [],
   "source": []
  }
 ],
 "metadata": {
  "kernelspec": {
   "display_name": "Python 3",
   "language": "python",
   "name": "python3"
  },
  "language_info": {
   "codemirror_mode": {
    "name": "ipython",
    "version": 3
   },
   "file_extension": ".py",
   "mimetype": "text/x-python",
   "name": "python",
   "nbconvert_exporter": "python",
   "pygments_lexer": "ipython3",
   "version": "3.6.3"
  }
 },
 "nbformat": 4,
 "nbformat_minor": 2
}
