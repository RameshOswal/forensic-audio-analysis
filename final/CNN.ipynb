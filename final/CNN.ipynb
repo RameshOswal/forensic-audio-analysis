{
 "cells": [
  {
   "cell_type": "code",
   "execution_count": 84,
   "metadata": {
    "collapsed": true
   },
   "outputs": [],
   "source": [
    "import numpy as np\n",
    "import glob\n",
    "from sklearn.linear_model import LogisticRegression\n",
    "from sklearn.decomposition import PCA\n",
    "import matplotlib.pyplot as plt"
   ]
  },
  {
   "cell_type": "code",
   "execution_count": 38,
   "metadata": {
    "collapsed": true
   },
   "outputs": [],
   "source": [
    "data_path = '../../data/cnn/new_data/'"
   ]
  },
  {
   "cell_type": "code",
   "execution_count": 39,
   "metadata": {},
   "outputs": [],
   "source": [
    "new_files = glob.glob(data_path+'*.csv')"
   ]
  },
  {
   "cell_type": "code",
   "execution_count": 63,
   "metadata": {},
   "outputs": [],
   "source": [
    "for file in new_files:\n",
    "    cnn = np.genfromtxt(file,delimiter=\",\")\n",
    "    Y = 1 if file.split(\".\")[-3] == 'b' else 0\n",
    "    with open('../../data/cnn\\\\new_data/cont_features_cnn.csv', 'ab') as f_handle:\n",
    "        np.savetxt(f_handle, np.concatenate((cnn, np.ones((cnn.shape[0],1)) * Y), axis=1 ) , fmt='%.6e', delimiter=',')"
   ]
  },
  {
   "cell_type": "code",
   "execution_count": 68,
   "metadata": {
    "collapsed": true
   },
   "outputs": [],
   "source": [
    "train = np.genfromtxt(data_path+'../train.csv',delimiter=\",\")\n",
    "cont = np.genfromtxt(data_path+'../cont_features_cnn.csv',delimiter=\",\")\n",
    "test = np.genfromtxt(data_path+'../test.csv',delimiter=\",\")"
   ]
  },
  {
   "cell_type": "code",
   "execution_count": 141,
   "metadata": {},
   "outputs": [
    {
     "name": "stdout",
     "output_type": "stream",
     "text": [
      "1.0 0.617021276596\n",
      "(617, 1024) (235, 1024)\n"
     ]
    }
   ],
   "source": [
    "trainX = train[:,:-1]#np.concatenate((train[:,:-1], cont[:,:-1]),axis=0) #cont[:,:-1]#\n",
    "trainY = train[:,-1]#np.concatenate((train[:,-1], cont[:,-1]),axis=0) #cont[:,-1]#\n",
    "testX = test[:,:-1]\n",
    "testY = test[:,-1]\n",
    "clf = LogisticRegression(penalty='l1')\n",
    "clf.fit(trainX,trainY)\n",
    "print(clf.score(trainX,trainY), clf.score(testX, testY))\n",
    "print(trainX.shape,testX.shape)"
   ]
  },
  {
   "cell_type": "code",
   "execution_count": 142,
   "metadata": {},
   "outputs": [],
   "source": [
    "trainX = cont[:,:-1]#\n",
    "trainY = cont[:,-1]#\n",
    "testX = test[:,:-1]\n",
    "testY = test[:,-1]\n",
    "\n",
    "import timeit\n",
    "\n",
    "start = timeit.timeit()\n",
    "def useLR(TrX,TrY,TeX,TeY,penalty='l2'):\n",
    "    clf = LogisticRegression(penalty=penalty)\n",
    "    clf.fit(TrX,TrY)\n",
    "    print(clf.score(TrX,TrY), clf.score(TeX, TeY))\n",
    "    print(TrX.shape,TeX.shape)\n",
    "    return clf"
   ]
  },
  {
   "cell_type": "markdown",
   "metadata": {},
   "source": [
    "# PCA Visualization"
   ]
  },
  {
   "cell_type": "code",
   "execution_count": 148,
   "metadata": {
    "collapsed": true
   },
   "outputs": [],
   "source": [
    "pca = PCA(n_components=200)\n",
    "def fit_transform(X):\n",
    "    return pca.fit_transform(X)\n",
    "def trans(X):\n",
    "    return pca.transform(X)\n",
    "def plot(X,Y):\n",
    "    X_b = X[Y==1]\n",
    "    X_h = X[Y==0]\n",
    "    plt.scatter(X_b[:,0], X_b[:,1])\n",
    "    plt.scatter(X_h[:,0], X_h[:,1])\n",
    "    plt.show()"
   ]
  },
  {
   "cell_type": "code",
   "execution_count": 149,
   "metadata": {},
   "outputs": [
    {
     "name": "stdout",
     "output_type": "stream",
     "text": [
      "(1153, 200) (235, 200)\n"
     ]
    }
   ],
   "source": [
    "pcaTrainX = fit_transform(trainX)\n",
    "pcaTestX = trans(testX)\n",
    "newTrainX, newTestX = normalize(pcaTrainX, pcaTestX)\n",
    "print(newTrainX.shape, newTestX.shape)"
   ]
  },
  {
   "cell_type": "code",
   "execution_count": 150,
   "metadata": {},
   "outputs": [
    {
     "data": {
      "image/png": "[encoded data removed]",
      "text/plain": [
       "<matplotlib.figure.Figure at 0x2b832a0d358>"
      ]
     },
     "metadata": {},
     "output_type": "display_data"
    }
   ],
   "source": [
    "plot(newTrainX, trainY)"
   ]
  },
  {
   "cell_type": "code",
   "execution_count": 152,
   "metadata": {},
   "outputs": [
    {
     "name": "stdout",
     "output_type": "stream",
     "text": [
      "0.98699045967 0.582978723404\n",
      "(1153, 200) (235, 200)\n"
     ]
    }
   ],
   "source": [
    "cl = useLR(newTrainX,trainY, newTestX, testY, penalty='l1')"
   ]
  },
  {
   "cell_type": "code",
   "execution_count": 153,
   "metadata": {},
   "outputs": [
    {
     "data": {
      "text/plain": [
       "array([[ 12.90021507,   3.41410353,  -6.95497285,   1.48570893,\n",
       "         -0.98748611,  -5.82359095,   3.97451357,   0.        ,\n",
       "          5.91299206,  -4.41187389,   3.92743787,  -3.81732091,\n",
       "         -1.60867868,  -5.6220341 ,   0.        ,   0.        ,\n",
       "          0.94691181,  -0.42038587,   0.27083886,   1.63945213,\n",
       "         -2.30068089,  -2.10632101,   0.        ,  -0.01788613,\n",
       "          0.62122105,  -0.59732066,   0.        ,   0.        ,\n",
       "          0.        ,   0.        ,  -0.61040553,   0.74592907,\n",
       "          0.        ,   0.        ,   0.        ,   0.        ,\n",
       "          0.        ,   0.        ,   0.66795903,   0.        ,\n",
       "          0.        ,  -1.72470482,   0.        ,   0.        ,\n",
       "          0.        ,   0.        ,   0.        ,   0.        ,\n",
       "          0.        ,   0.        ,   0.        ,   0.        ,\n",
       "          0.        ,   0.        ,  -0.32624436,   0.        ,\n",
       "         -2.44319593,   0.        ,   0.        ,   0.        ,\n",
       "          0.        ,   0.        ,   0.        ,   0.        ,\n",
       "          0.        ,   0.        ,   0.        ,   0.        ,\n",
       "          0.        ,   0.        ,   0.        ,   0.        ,\n",
       "         -0.86403307,   0.79389058,   0.        ,   1.47138423,\n",
       "          0.        ,   0.        ,   0.        ,   0.        ,\n",
       "          0.50230577,   0.        ,   0.        ,   0.        ,\n",
       "          0.        ,   0.        ,   0.        ,   0.82115954,\n",
       "          0.        ,   0.        ,   0.        ,   0.        ,\n",
       "          0.        ,  -1.56057273,   0.        ,   0.        ,\n",
       "         -0.55809523,   0.        ,   0.66472123,   0.        ,\n",
       "         -0.78620478,  -0.35533497,   0.        ,   0.        ,\n",
       "          0.        ,   0.        ,   0.        ,   0.7713718 ,\n",
       "          0.        ,   0.        ,   0.        ,   0.        ,\n",
       "          0.        ,   0.        ,   0.        ,   0.        ,\n",
       "          0.        ,   0.        ,   0.        ,   0.30645352,\n",
       "         -0.01989014,   0.        ,   0.        ,   0.        ,\n",
       "          0.        ,   0.        ,   0.        ,   0.        ,\n",
       "          0.        ,   0.        ,   0.07920491,   0.        ,\n",
       "          0.20905457,   0.        ,   0.        ,  -0.2349006 ,\n",
       "         -0.43426004,   0.34900882,   0.        ,   0.        ,\n",
       "          0.        ,   0.        ,   0.        ,   1.12032924,\n",
       "          0.        ,   0.        ,   0.        ,   0.        ,\n",
       "          0.02457556,   0.        ,  -1.89063011,   0.        ,\n",
       "          0.        ,   0.        ,   0.        ,   0.70511487,\n",
       "          0.        ,   0.        ,   0.15979907,   0.        ,\n",
       "          0.        ,   0.        ,  -0.04418303,   0.        ,\n",
       "          0.        ,   0.        ,   1.57670774,   0.        ,\n",
       "          0.        ,   0.        ,   0.        ,   0.        ,\n",
       "          0.        ,   0.        ,   0.        ,   0.        ,\n",
       "          0.44848358,  -0.01488302,   0.        ,   0.        ,\n",
       "         -1.02110279,   0.62944527,   0.        ,   0.        ,\n",
       "          0.        ,   0.        ,   0.        ,  -0.13701873,\n",
       "          0.        ,   0.34121385,   0.        ,   0.        ,\n",
       "          0.        ,   0.        ,   0.        ,   0.90993305,\n",
       "          0.        ,   0.        ,   0.        ,   0.        ]])"
      ]
     },
     "execution_count": 153,
     "metadata": {},
     "output_type": "execute_result"
    }
   ],
   "source": [
    "cl.coef_"
   ]
  },
  {
   "cell_type": "code",
   "execution_count": 154,
   "metadata": {},
   "outputs": [
    {
     "data": {
      "text/plain": [
       "array([ 0.])"
      ]
     },
     "execution_count": 154,
     "metadata": {},
     "output_type": "execute_result"
    }
   ],
   "source": [
    "cl.intercept_"
   ]
  },
  {
   "cell_type": "code",
   "execution_count": 155,
   "metadata": {},
   "outputs": [
    {
     "data": {
      "image/png": "[encoded data removed]",
      "text/plain": [
       "<matplotlib.figure.Figure at 0x2b831a417b8>"
      ]
     },
     "metadata": {},
     "output_type": "display_data"
    }
   ],
   "source": [
    "plot(pcaTestX,testY)"
   ]
  },
  {
   "cell_type": "code",
   "execution_count": 129,
   "metadata": {
    "collapsed": true
   },
   "outputs": [],
   "source": [
    "def normalize(trX,teX):\n",
    "    newTrX = (trX - trX.min(0) ) / trX.ptp(0)\n",
    "    newTeX = (teX - trX.min(0) ) / trX.ptp(0)\n",
    "    return newTrX, newTeX"
   ]
  },
  {
   "cell_type": "code",
   "execution_count": null,
   "metadata": {
    "collapsed": true
   },
   "outputs": [],
   "source": []
  }
 ],
 "metadata": {
  "kernelspec": {
   "display_name": "Python 3",
   "language": "python",
   "name": "python3"
  },
  "language_info": {
   "codemirror_mode": {
    "name": "ipython",
    "version": 3
   },
   "file_extension": ".py",
   "mimetype": "text/x-python",
   "name": "python",
   "nbconvert_exporter": "python",
   "pygments_lexer": "ipython3",
   "version": "3.6.3"
  }
 },
 "nbformat": 4,
 "nbformat_minor": 2
}
