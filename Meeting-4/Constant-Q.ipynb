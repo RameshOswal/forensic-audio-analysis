{
 "cells": [
  {
   "cell_type": "code",
   "execution_count": 2,
   "metadata": {
    "collapsed": false
   },
   "outputs": [
    {
     "data": {
      "text/latex": [
       "\\begin{align}\n",
       "X^{cq}[k_{cq} ] = \\sum_{n=0}^{N[k_eq]-1} w[n,k_{cq}]x[n]e^{-j\\Omega_{k_{cq}^n}}\n",
       "\\end{align}"
      ],
      "text/plain": [
       "<IPython.core.display.Latex object>"
      ]
     },
     "metadata": {},
     "output_type": "display_data"
    }
   ],
   "source": [
    "%%latex\n",
    "\\begin{align}\n",
    "X^{cq}[k_{cq} ] = \\sum_{n=0}^{N[k_eq]-1} w[n,k_{cq}]x[n]e^{-j\\Omega_{k_{cq}^n}}\n",
    "\\end{align}"
   ]
  },
  {
   "cell_type": "code",
   "execution_count": 3,
   "metadata": {
    "collapsed": true
   },
   "outputs": [],
   "source": [
    "import librosa, librosa.display\n",
    "import numpy as np\n",
    "from os import listdir #To get file names from a particular dir"
   ]
  },
  {
   "cell_type": "code",
   "execution_count": 4,
   "metadata": {
    "collapsed": false
   },
   "outputs": [],
   "source": [
    "path = \"../../heli_and_boat.tar/\"\n",
    "file_names = [path+ f for f in listdir(path) if (\"short\" in f and f[-4:] == \".wav\")]"
   ]
  },
  {
   "cell_type": "code",
   "execution_count": 5,
   "metadata": {
    "collapsed": false
   },
   "outputs": [],
   "source": [
    "def delta(a, b):\n",
    "    return a-b\n",
    "def constQFeatureExtractor(curr_col, prev_col, next_col):\n",
    "    d1 = delta(curr_col, prev_col)\n",
    "    d2 = delta(curr_col, next_col)\n",
    "    dd = delta(prev_col, next_col)\n",
    "    vector = np.concatenate((curr_col,d1,d2,dd))\n",
    "    return vector"
   ]
  },
  {
   "cell_type": "code",
   "execution_count": 6,
   "metadata": {
    "collapsed": false
   },
   "outputs": [
    {
     "data": {
      "text/plain": [
       "array([ 1,  2, -1, -1, -3, -1, -2,  0])"
      ]
     },
     "execution_count": 6,
     "metadata": {},
     "output_type": "execute_result"
    }
   ],
   "source": [
    "constQFeatureExtractor(np.array([1,2]),np.array([2,3]),np.array([4,3]))"
   ]
  },
  {
   "cell_type": "code",
   "execution_count": 17,
   "metadata": {
    "collapsed": false
   },
   "outputs": [],
   "source": [
    "import matplotlib.pyplot as plt\n",
    "X = []\n",
    "Y = []\n",
    "for file_name in  file_names:\n",
    "    y, sr = librosa.load(file_name)\n",
    "    C = librosa.cqt(y, sr=sr)\n",
    "    magC = np.abs(C)\n",
    "    for i in range(1,magC.shape[1]-1):\n",
    "        curr_col=magC[:,i]\n",
    "        prev_col=magC[:,i-1]\n",
    "        next_col=magC[:,i+1]\n",
    "        feature_vector = constQFeatureExtractor(curr_col=curr_col, prev_col=prev_col, next_col=next_col)\n",
    "        X += [feature_vector]\n",
    "        #Adding str(i) which says the time interval for that particular id.\n",
    "        Y += [str(i) + \"_\"+ file_name.split(\"/\")[-1]]"
   ]
  },
  {
   "cell_type": "code",
   "execution_count": 47,
   "metadata": {
    "collapsed": false
   },
   "outputs": [],
   "source": [
    "training_data_X = np.array(X)\n",
    "training_data_Y = np.array(Y)"
   ]
  },
  {
   "cell_type": "code",
   "execution_count": 49,
   "metadata": {
    "collapsed": false
   },
   "outputs": [],
   "source": [
    "np.savetxt(X=training_data_X,delimiter=\",\",fname=path+\"training_data_X.csv\")\n",
    "np.savetxt(X=training_data_Y,delimiter=\",\",fname=path+\"training_data_Y.csv\",fmt=\"%s\")"
   ]
  },
  {
   "cell_type": "code",
   "execution_count": null,
   "metadata": {
    "collapsed": true
   },
   "outputs": [],
   "source": []
  }
 ],
 "metadata": {
  "kernelspec": {
   "display_name": "Python 2",
   "language": "python",
   "name": "python2"
  },
  "language_info": {
   "codemirror_mode": {
    "name": "ipython",
    "version": 2
   },
   "file_extension": ".py",
   "mimetype": "text/x-python",
   "name": "python",
   "nbconvert_exporter": "python",
   "pygments_lexer": "ipython2",
   "version": "2.7.13"
  }
 },
 "nbformat": 4,
 "nbformat_minor": 2
}
