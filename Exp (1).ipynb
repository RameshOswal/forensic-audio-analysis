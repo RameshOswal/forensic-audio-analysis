{
 "cells": [
  {
   "cell_type": "markdown",
   "metadata": {},
   "source": [
    "## Load up data and generate features"
   ]
  },
  {
   "cell_type": "code",
   "execution_count": 1,
   "metadata": {
    "collapsed": true
   },
   "outputs": [],
   "source": [
    "import sys\n",
    "sys.path.append('..')\n",
    "\n",
    "import audio\n",
    "import features\n",
    "import glob\n",
    "import numpy as np"
   ]
  },
  {
   "cell_type": "code",
   "execution_count": 47,
   "metadata": {
    "collapsed": true
   },
   "outputs": [
    {
     "name": "stdout",
     "output_type": "stream",
     "text": [
      "Loading ../../data/boat/train\\03LBxCR55J4_000.wav 1\n",
      "Loading ../../data/boat/train\\03LBxCR55J4_001.wav 2\n",
      "Loading ../../data/boat/train\\03LBxCR55J4_002.wav 3\n",
      "Loading ../../data/boat/train\\03LBxCR55J4_003.wav 4\n",
      "Loading ../../data/boat/train\\03LBxCR55J4_004.wav 5\n",
      "Loading ../../data/boat/train\\03LBxCR55J4_005.wav 6\n",
      "Loading ../../data/boat/train\\03LBxCR55J4_006.wav 7\n",
      "Loading ../../data/boat/train\\03LBxCR55J4_007.wav 8\n",
      "Loading ../../data/boat/train\\03LBxCR55J4_008.wav 9\n",
      "Loading ../../data/boat/train\\03LBxCR55J4_009.wav 10\n",
      "Loading ../../data/boat/train\\03LBxCR55J4_010.wav 11\n",
      "Loading ../../data/boat/train\\03LBxCR55J4_011.wav 12\n",
      "Loading ../../data/boat/train\\03LBxCR55J4_012.wav 13\n",
      "Loading ../../data/boat/train\\03LBxCR55J4_013.wav 14\n",
      "Loading ../../data/boat/train\\03LBxCR55J4_014.wav 15\n",
      "Loading ../../data/boat/train\\03LBxCR55J4_015.wav 16\n",
      "Loading ../../data/boat/train\\03LBxCR55J4_016.wav 17\n",
      "Loading ../../data/boat/train\\03LBxCR55J4_017.wav 18\n",
      "Loading ../../data/boat/train\\03LBxCR55J4_018.wav 19\n",
      "Loading ../../data/boat/train\\03LBxCR55J4_019.wav 20\n",
      "Loading ../../data/boat/train\\03LBxCR55J4_020.wav 21\n",
      "Loading ../../data/boat/train\\03LBxCR55J4_021.wav 22\n",
      "Loading ../../data/boat/train\\03LBxCR55J4_022.wav 23\n",
      "Loading ../../data/boat/train\\03LBxCR55J4_023.wav 24\n",
      "Loading ../../data/boat/train\\03LBxCR55J4_024.wav 25\n",
      "Loading ../../data/boat/train\\03LBxCR55J4_025.wav 26\n",
      "Loading ../../data/boat/train\\03LBxCR55J4_026.wav 27\n",
      "Loading ../../data/boat/train\\03LBxCR55J4_027.wav 28\n",
      "Loading ../../data/boat/train\\03LBxCR55J4_028.wav 29\n",
      "Loading ../../data/boat/train\\03LBxCR55J4_029.wav 30\n",
      "Loading ../../data/boat/train\\03LBxCR55J4_030.wav 31\n",
      "Loading ../../data/boat/train\\03LBxCR55J4_031.wav 32\n",
      "Loading ../../data/boat/train\\03LBxCR55J4_032.wav 33\n",
      "Loading ../../data/boat/train\\03LBxCR55J4_033.wav 34\n",
      "Loading ../../data/boat/train\\03LBxCR55J4_034.wav 35\n",
      "Loading ../../data/boat/train\\03LBxCR55J4_035.wav 36\n",
      "Loading ../../data/boat/train\\03LBxCR55J4_036.wav 37\n",
      "Loading ../../data/boat/train\\03LBxCR55J4_037.wav 38\n",
      "Loading ../../data/boat/train\\03LBxCR55J4_038.wav 39\n",
      "Loading ../../data/boat/train\\03LBxCR55J4_039.wav 40\n",
      "Loading ../../data/boat/train\\03LBxCR55J4_040.wav 41\n",
      "Loading ../../data/boat/train\\03LBxCR55J4_041.wav 42\n",
      "Loading ../../data/boat/train\\03LBxCR55J4_042.wav 43\n",
      "Loading ../../data/boat/train\\03LBxCR55J4_043.wav 44\n",
      "Loading ../../data/boat/train\\03LBxCR55J4_044.wav 45\n",
      "Loading ../../data/boat/train\\03LBxCR55J4_045.wav 46\n",
      "Loading ../../data/boat/train\\03LBxCR55J4_046.wav 47\n",
      "Loading ../../data/boat/train\\03LBxCR55J4_047.wav 48\n",
      "Loading ../../data/boat/train\\03LBxCR55J4_048.wav 49\n",
      "Loading ../../data/boat/train\\03LBxCR55J4_049.wav 50\n",
      "Loading ../../data/boat/train\\03LBxCR55J4_050.wav 51\n",
      "Loading ../../data/boat/train\\03LBxCR55J4_051.wav 52\n",
      "Loading ../../data/boat/train\\03LBxCR55J4_052.wav 53\n",
      "Loading ../../data/boat/train\\03LBxCR55J4_053.wav 54\n",
      "Loading ../../data/boat/train\\03LBxCR55J4_054.wav 55\n",
      "Loading ../../data/boat/train\\03LBxCR55J4_055.wav 56\n",
      "Loading ../../data/boat/train\\03LBxCR55J4_056.wav 57\n",
      "Loading ../../data/boat/train\\03LBxCR55J4_057.wav 58\n",
      "Loading ../../data/boat/train\\03LBxCR55J4_058.wav 59\n",
      "Loading ../../data/boat/train\\03LBxCR55J4_059.wav 60\n",
      "Loading ../../data/boat/train\\03LBxCR55J4_060.wav 61\n",
      "Loading ../../data/boat/train\\03LBxCR55J4_061.wav 62\n",
      "Loading ../../data/boat/train\\03LBxCR55J4_062.wav 63\n",
      "Loading ../../data/boat/train\\03LBxCR55J4_063.wav 64\n",
      "Loading ../../data/boat/train\\caINHydn-gE_000.wav 65\n",
      "Loading ../../data/boat/train\\caINHydn-gE_001.wav 66\n",
      "Loading ../../data/boat/train\\caINHydn-gE_002.wav 67\n",
      "Loading ../../data/boat/train\\caINHydn-gE_003.wav 68\n",
      "Loading ../../data/boat/train\\caINHydn-gE_004.wav 69\n",
      "Loading ../../data/boat/train\\caINHydn-gE_005.wav 70\n",
      "Loading ../../data/boat/train\\caINHydn-gE_006.wav 71\n",
      "Loading ../../data/boat/train\\caINHydn-gE_007.wav 72\n",
      "Loading ../../data/boat/train\\caINHydn-gE_008.wav 73\n",
      "Loading ../../data/boat/train\\caINHydn-gE_009.wav 74\n",
      "Loading ../../data/boat/train\\caINHydn-gE_010.wav 75\n",
      "Loading ../../data/boat/train\\caINHydn-gE_011.wav 76\n",
      "Loading ../../data/boat/train\\caINHydn-gE_012.wav 77\n",
      "Loading ../../data/boat/train\\caINHydn-gE_013.wav 78\n",
      "Loading ../../data/boat/train\\caINHydn-gE_014.wav 79\n",
      "Loading ../../data/boat/train\\caINHydn-gE_015.wav 80\n",
      "Loading ../../data/boat/train\\caINHydn-gE_016.wav 81\n",
      "Loading ../../data/boat/train\\caINHydn-gE_017.wav 82\n",
      "Loading ../../data/boat/train\\caINHydn-gE_018.wav 83\n",
      "Loading ../../data/boat/train\\caINHydn-gE_019.wav 84\n",
      "Loading ../../data/boat/train\\caINHydn-gE_020.wav 85\n",
      "Loading ../../data/boat/train\\caINHydn-gE_021.wav 86\n",
      "Loading ../../data/boat/train\\caINHydn-gE_022.wav 87\n",
      "Loading ../../data/boat/train\\ECyqCpZoXWg_000.wav 88\n",
      "Loading ../../data/boat/train\\ECyqCpZoXWg_001.wav 89\n",
      "Loading ../../data/boat/train\\ECyqCpZoXWg_002.wav 90\n",
      "Loading ../../data/boat/train\\ECyqCpZoXWg_003.wav 91\n",
      "Loading ../../data/boat/train\\ECyqCpZoXWg_004.wav 92\n",
      "Loading ../../data/boat/train\\ECyqCpZoXWg_005.wav 93\n",
      "Loading ../../data/boat/train\\ECyqCpZoXWg_006.wav 94\n",
      "Loading ../../data/boat/train\\ECyqCpZoXWg_007.wav 95\n",
      "Loading ../../data/boat/train\\ECyqCpZoXWg_008.wav 96\n",
      "Loading ../../data/boat/train\\ECyqCpZoXWg_009.wav 97\n",
      "Loading ../../data/boat/train\\ECyqCpZoXWg_010.wav 98\n",
      "Loading ../../data/boat/train\\ECyqCpZoXWg_011.wav 99\n",
      "Loading ../../data/boat/train\\ECyqCpZoXWg_012.wav 100\n",
      "Nice!\n",
      "Loading ../../data/heli/train\\1n198aivzxE_000.wav 1\n",
      "Loading ../../data/heli/train\\1n198aivzxE_001.wav 2\n",
      "Loading ../../data/heli/train\\1n198aivzxE_002.wav 3\n",
      "Loading ../../data/heli/train\\1n198aivzxE_003.wav 4\n",
      "Loading ../../data/heli/train\\1n198aivzxE_004.wav 5\n",
      "Loading ../../data/heli/train\\24iU7dhbNdA_000.wav 6\n",
      "Loading ../../data/heli/train\\24iU7dhbNdA_001.wav 7\n",
      "Loading ../../data/heli/train\\24iU7dhbNdA_002.wav 8\n",
      "Loading ../../data/heli/train\\24iU7dhbNdA_003.wav 9\n",
      "Loading ../../data/heli/train\\24iU7dhbNdA_004.wav 10\n",
      "Loading ../../data/heli/train\\24iU7dhbNdA_005.wav 11\n",
      "Loading ../../data/heli/train\\24iU7dhbNdA_006.wav 12\n",
      "Loading ../../data/heli/train\\24iU7dhbNdA_007.wav 13\n",
      "Loading ../../data/heli/train\\24iU7dhbNdA_008.wav 14\n",
      "Loading ../../data/heli/train\\24iU7dhbNdA_009.wav 15\n",
      "Loading ../../data/heli/train\\24iU7dhbNdA_010.wav 16\n",
      "Loading ../../data/heli/train\\24iU7dhbNdA_011.wav 17\n",
      "Loading ../../data/heli/train\\24iU7dhbNdA_012.wav 18\n",
      "Loading ../../data/heli/train\\24iU7dhbNdA_013.wav 19\n",
      "Loading ../../data/heli/train\\24iU7dhbNdA_014.wav 20\n",
      "Loading ../../data/heli/train\\24iU7dhbNdA_015.wav 21\n",
      "Loading ../../data/heli/train\\24iU7dhbNdA_016.wav 22\n",
      "Loading ../../data/heli/train\\24iU7dhbNdA_017.wav 23\n",
      "Loading ../../data/heli/train\\24iU7dhbNdA_018.wav 24\n",
      "Loading ../../data/heli/train\\24iU7dhbNdA_019.wav 25\n",
      "Loading ../../data/heli/train\\24iU7dhbNdA_020.wav 26\n",
      "Loading ../../data/heli/train\\24iU7dhbNdA_021.wav 27\n",
      "Loading ../../data/heli/train\\24iU7dhbNdA_022.wav 28\n",
      "Loading ../../data/heli/train\\24iU7dhbNdA_023.wav 29\n",
      "Loading ../../data/heli/train\\24iU7dhbNdA_024.wav 30\n",
      "Loading ../../data/heli/train\\24iU7dhbNdA_025.wav 31\n",
      "Loading ../../data/heli/train\\24iU7dhbNdA_026.wav 32\n",
      "Loading ../../data/heli/train\\24iU7dhbNdA_027.wav 33\n",
      "Loading ../../data/heli/train\\24iU7dhbNdA_028.wav 34\n",
      "Loading ../../data/heli/train\\24iU7dhbNdA_029.wav 35\n",
      "Loading ../../data/heli/train\\24iU7dhbNdA_030.wav 36\n",
      "Loading ../../data/heli/train\\24iU7dhbNdA_031.wav 37\n",
      "Loading ../../data/heli/train\\24iU7dhbNdA_032.wav 38\n",
      "Loading ../../data/heli/train\\24iU7dhbNdA_033.wav 39\n",
      "Loading ../../data/heli/train\\24iU7dhbNdA_034.wav 40\n",
      "Loading ../../data/heli/train\\24iU7dhbNdA_035.wav 41\n",
      "Loading ../../data/heli/train\\24iU7dhbNdA_036.wav 42\n",
      "Loading ../../data/heli/train\\24iU7dhbNdA_037.wav 43\n",
      "Loading ../../data/heli/train\\24iU7dhbNdA_038.wav 44\n",
      "Loading ../../data/heli/train\\24iU7dhbNdA_039.wav 45\n",
      "Loading ../../data/heli/train\\24iU7dhbNdA_040.wav 46\n",
      "Loading ../../data/heli/train\\24iU7dhbNdA_041.wav 47\n",
      "Loading ../../data/heli/train\\24iU7dhbNdA_042.wav 48\n",
      "Loading ../../data/heli/train\\24iU7dhbNdA_043.wav 49\n",
      "Loading ../../data/heli/train\\2sdGC6A60GA_000.wav 50\n",
      "Loading ../../data/heli/train\\2sdGC6A60GA_001.wav 51\n",
      "Loading ../../data/heli/train\\2sdGC6A60GA_002.wav 52\n",
      "Loading ../../data/heli/train\\2sdGC6A60GA_003.wav 53\n",
      "Loading ../../data/heli/train\\2sdGC6A60GA_004.wav 54\n",
      "Loading ../../data/heli/train\\2sdGC6A60GA_005.wav 55\n",
      "Loading ../../data/heli/train\\3H1vJ4hzTLg_000.wav 56\n",
      "Loading ../../data/heli/train\\3H1vJ4hzTLg_001.wav 57\n",
      "Loading ../../data/heli/train\\3H1vJ4hzTLg_002.wav 58\n",
      "Loading ../../data/heli/train\\3H1vJ4hzTLg_003.wav 59\n",
      "Loading ../../data/heli/train\\3H1vJ4hzTLg_004.wav 60\n",
      "Loading ../../data/heli/train\\3H1vJ4hzTLg_005.wav 61\n",
      "Loading ../../data/heli/train\\3H1vJ4hzTLg_006.wav 62\n",
      "Loading ../../data/heli/train\\3H1vJ4hzTLg_007.wav 63\n",
      "Loading ../../data/heli/train\\3H1vJ4hzTLg_008.wav 64\n",
      "Loading ../../data/heli/train\\3H1vJ4hzTLg_009.wav 65\n",
      "Loading ../../data/heli/train\\3H1vJ4hzTLg_010.wav 66\n",
      "Loading ../../data/heli/train\\3H1vJ4hzTLg_011.wav 67\n",
      "Loading ../../data/heli/train\\3H1vJ4hzTLg_012.wav 68\n",
      "Loading ../../data/heli/train\\3H1vJ4hzTLg_013.wav 69\n",
      "Loading ../../data/heli/train\\3H1vJ4hzTLg_014.wav 70\n",
      "Loading ../../data/heli/train\\3H1vJ4hzTLg_015.wav 71\n",
      "Loading ../../data/heli/train\\3H1vJ4hzTLg_016.wav 72\n",
      "Loading ../../data/heli/train\\3H1vJ4hzTLg_017.wav 73\n",
      "Loading ../../data/heli/train\\3H1vJ4hzTLg_018.wav 74\n",
      "Loading ../../data/heli/train\\3H1vJ4hzTLg_019.wav 75\n",
      "Loading ../../data/heli/train\\3H1vJ4hzTLg_020.wav 76\n",
      "Loading ../../data/heli/train\\3H1vJ4hzTLg_021.wav 77\n",
      "Loading ../../data/heli/train\\3H1vJ4hzTLg_022.wav 78\n",
      "Loading ../../data/heli/train\\3H1vJ4hzTLg_023.wav 79\n",
      "Loading ../../data/heli/train\\3H1vJ4hzTLg_024.wav 80\n",
      "Loading ../../data/heli/train\\3H1vJ4hzTLg_025.wav 81\n",
      "Loading ../../data/heli/train\\3H1vJ4hzTLg_026.wav 82\n",
      "Loading ../../data/heli/train\\3H1vJ4hzTLg_027.wav 83\n",
      "Loading ../../data/heli/train\\3H1vJ4hzTLg_028.wav 84\n",
      "Loading ../../data/heli/train\\3H1vJ4hzTLg_029.wav 85\n",
      "Loading ../../data/heli/train\\3H1vJ4hzTLg_030.wav 86\n",
      "Loading ../../data/heli/train\\44Ml2WN2sE0_000.wav 87\n",
      "Loading ../../data/heli/train\\44Ml2WN2sE0_001.wav 88\n",
      "Loading ../../data/heli/train\\44Ml2WN2sE0_002.wav 89\n",
      "Loading ../../data/heli/train\\44Ml2WN2sE0_003.wav 90\n",
      "Loading ../../data/heli/train\\44Ml2WN2sE0_004.wav 91\n",
      "Loading ../../data/heli/train\\44Ml2WN2sE0_005.wav 92\n",
      "Loading ../../data/heli/train\\44Ml2WN2sE0_006.wav 93\n",
      "Loading ../../data/heli/train\\44Ml2WN2sE0_007.wav 94\n",
      "Loading ../../data/heli/train\\44Ml2WN2sE0_008.wav 95\n",
      "Loading ../../data/heli/train\\44Ml2WN2sE0_009.wav 96\n",
      "Loading ../../data/heli/train\\44Ml2WN2sE0_010.wav 97\n",
      "Loading ../../data/heli/train\\5fgItPlvGpM_000.wav 98\n",
      "Loading ../../data/heli/train\\5fgItPlvGpM_001.wav 99\n",
      "Loading ../../data/heli/train\\5fgItPlvGpM_002.wav 100\n",
      "Nice!\n"
     ]
    }
   ],
   "source": [
    "file_set = 'train'\n",
    "for cat in ( \"boat\",\"heli\",):\n",
    "    ctr = 0\n",
    "    #files = glob.glob(\"./downloads_\" + cat + \"/processed/*.wav\")\n",
    "    file_path = \"../../data/\" +  cat + '/' + file_set + \"/*.wav\"\n",
    "    files = glob.glob(file_path)\n",
    "    obs_count = 0\n",
    "    # Generate features\n",
    "    for file in files[:100]:\n",
    "        ctr += 1\n",
    "#         if np.random.uniform(0,1,1)[0] < 0.8:\n",
    "#             print(\"skipping\",ctr,file)\n",
    "#             continue\n",
    "        print(\"Loading \" + file,ctr)\n",
    "        raw = audio.import_wav(file)\n",
    "\n",
    "        # Generate each type of feature\n",
    "        corr = features.gen_correlogram(raw)\n",
    "        mag_spec = features.gen_mag_spec(raw)\n",
    "        #constQ = features.gen_constantQ(raw)\n",
    "#         cnn = features.gen_cnn(raw, use_gpu=False)\n",
    "\n",
    "        # Make sure all have correct format\n",
    "        corr = corr.T \n",
    "        \n",
    "        Y = 1 if cat == 'boat' else 0\n",
    "\n",
    "        # Export each feature separately for various types of comparison\n",
    "        with open('../../data/' + file_set +'/features_corr.csv', 'ab') as f_handle:\n",
    "            np.savetxt(f_handle, np.concatenate((corr, np.ones((corr.shape[0],1)) * Y ),axis=1)  , fmt='%.6e', delimiter=',')\n",
    "            \n",
    "        #with open('../../data/' + file_set +'/features_mag_spec.csv', 'ab') as f_handle:\n",
    "        #    np.savetxt(f_handle, np.concatenate((mag_spec, np.ones((mag_spec.shape[0],1)) * Y ),axis=1), fmt='%.6e', delimiter=',')\n",
    "            \n",
    "        with open('../../data/' + file_set + '/features_constQ.csv', 'ab') as f_handle:\n",
    "            np.savetxt(f_handle, np.concatenate((constQ, np.ones((constQ.shape[0],1)) * Y),axis=1) , fmt='%.6e', delimiter=',')\n",
    "            \n",
    "#         with open('../../data/' + cat + '/features_cnn.csv', 'ab') as f_handle:\n",
    "#             np.savetxt(f_handle, np.concatenate(cnn, np.ones(corr.shape[0],1) * Y ) , fmt='%.6e', delimiter=',')\n",
    "\n",
    "    print(\"Nice!\")"
   ]
  },
  {
   "cell_type": "code",
   "execution_count": 34,
   "metadata": {
    "collapsed": false
   },
   "outputs": [
    {
     "data": {
      "text/plain": [
       "'../../data/train/heli/*.wav'"
      ]
     },
     "execution_count": 34,
     "metadata": {},
     "output_type": "execute_result"
    }
   ],
   "source": [
    "file_path"
   ]
  },
  {
   "cell_type": "markdown",
   "metadata": {},
   "source": [
    "## Train model"
   ]
  },
  {
   "cell_type": "code",
   "execution_count": null,
   "metadata": {
    "collapsed": true
   },
   "outputs": [],
   "source": [
    "train_fcorr = np.genfromtxt('CNN_features/train/features_corr.csv',delimiter=',')\n",
    "print(train_fcorr.shape)\n",
    "train_cq = np.genfromtxt('CNN_features/train/features_constQ.csv',delimiter=',')\n",
    "print(train_cq.shape)\n",
    "# train_mag_spec = np.genfromtxt('../../data/train/features_mag_spec.csv',delimiter=',')\n",
    "# print(train_mag_spec.shape)\n",
    "print(\"done\")\n",
    "test_fcorr = np.genfromtxt('CNN_features/data/test/features_corr.csv',delimiter=',')\n",
    "print(test_fcorr.shape)\n",
    "test_cq = np.genfromtxt('../../data/test/features_constQ.csv',delimiter=',')\n",
    "print(test_cq.shape)\n",
    "# test_mag_spec = np.genfromtxt('../../data/test/features_mag_spec.csv',delimiter=',')\n",
    "# print(test_mag_spec.shape)\n",
    "print(\"done\")"
   ]
  },
  {
   "cell_type": "code",
   "execution_count": 39,
   "metadata": {
    "collapsed": true
   },
   "outputs": [],
   "source": [
    "trainY = train_fcorr[:,-1]\n",
    "trainX = train_fcorr[:,:-1]\n",
    "\n",
    "testY = test_fcorr[:,-1]\n",
    "testX = test_fcorr[:,:-1]"
   ]
  },
  {
   "cell_type": "code",
   "execution_count": 40,
   "metadata": {
    "collapsed": false
   },
   "outputs": [
    {
     "data": {
      "text/plain": [
       "((104487, 1280), (43165, 1280), (104487,), (43165,))"
      ]
     },
     "execution_count": 40,
     "metadata": {},
     "output_type": "execute_result"
    }
   ],
   "source": [
    "trainX.shape, testX.shape, trainY.shape, testY.shape"
   ]
  },
  {
   "cell_type": "code",
   "execution_count": 11,
   "metadata": {
    "collapsed": false
   },
   "outputs": [
    {
     "data": {
      "text/plain": [
       "11213.0"
      ]
     },
     "execution_count": 11,
     "metadata": {},
     "output_type": "execute_result"
    }
   ],
   "source": [
    "sum(trainY)"
   ]
  },
  {
   "cell_type": "code",
   "execution_count": 44,
   "metadata": {
    "collapsed": false
   },
   "outputs": [
    {
     "data": {
      "text/plain": [
       "GaussianMixture(covariance_type='full', init_params='kmeans', max_iter=100,\n",
       "        means_init=None, n_components=2, n_init=1, precisions_init=None,\n",
       "        random_state=None, reg_covar=1e-06, tol=0.001, verbose=0,\n",
       "        verbose_interval=10, warm_start=False, weights_init=None)"
      ]
     },
     "execution_count": 44,
     "metadata": {},
     "output_type": "execute_result"
    }
   ],
   "source": [
    "from sklearn.mixture import GaussianMixture as GMM\n",
    "\n",
    "train_boat =  trainX[trainY==1]  #X_boat[:-5120]\n",
    "train_heli = trainX[trainY==0]\n",
    "test_boat = testX[testY==1]\n",
    "test_heli = testX[testY==0]\n",
    "\n",
    "gmm = {'boat':None, 'heli':None}\n",
    "\n",
    "gmm[\"boat\"] = GMM(n_components=2)\n",
    "gmm[\"boat\"].fit(train_boat)\n",
    "\n",
    "gmm[\"heli\"] = GMM(n_components=2)\n",
    "gmm[\"heli\"].fit(train_heli)"
   ]
  },
  {
   "cell_type": "markdown",
   "metadata": {},
   "source": [
    "## Predict"
   ]
  },
  {
   "cell_type": "code",
   "execution_count": 45,
   "metadata": {
    "collapsed": false
   },
   "outputs": [
    {
     "name": "stdout",
     "output_type": "stream",
     "text": [
      "0.428796478629\n"
     ]
    }
   ],
   "source": [
    "scores = np.zeros((testY.shape[0], 2))\n",
    "\n",
    "scores[:, 0] = gmm[\"boat\"].score_samples(testX)\n",
    "scores[:, 1] = gmm[\"heli\"].score_samples(testX)\n",
    "\n",
    "pred = np.greater(scores[:, 1], scores[:, 0])\n",
    "error = np.not_equal(pred, np.squeeze(testY))\n",
    "\n",
    "error_rate = np.sum(error) / len(error)\n",
    "print(error_rate)"
   ]
  },
  {
   "cell_type": "code",
   "execution_count": 41,
   "metadata": {
    "collapsed": true
   },
   "outputs": [],
   "source": [
    "from sklearn.linear_model import LogisticRegression"
   ]
  },
  {
   "cell_type": "code",
   "execution_count": 42,
   "metadata": {
    "collapsed": false
   },
   "outputs": [
    {
     "data": {
      "text/plain": [
       "LogisticRegression(C=1.0, class_weight=None, dual=False, fit_intercept=True,\n",
       "          intercept_scaling=1, max_iter=100, multi_class='ovr', n_jobs=1,\n",
       "          penalty='l1', random_state=None, solver='liblinear', tol=0.0001,\n",
       "          verbose=0, warm_start=False)"
      ]
     },
     "execution_count": 42,
     "metadata": {},
     "output_type": "execute_result"
    }
   ],
   "source": [
    "lr = LogisticRegression(penalty='l1')\n",
    "lr.fit(trainX, trainY)"
   ]
  },
  {
   "cell_type": "code",
   "execution_count": 43,
   "metadata": {
    "collapsed": false
   },
   "outputs": [
    {
     "name": "stdout",
     "output_type": "stream",
     "text": [
      "0.756180194665\n"
     ]
    },
    {
     "data": {
      "text/plain": [
       "0.45601760685740761"
      ]
     },
     "execution_count": 43,
     "metadata": {},
     "output_type": "execute_result"
    }
   ],
   "source": [
    "print(lr.score(trainX, trainY))\n",
    "lr.score(testX, testY)"
   ]
  },
  {
   "cell_type": "code",
   "execution_count": 33,
   "metadata": {
    "collapsed": false
   },
   "outputs": [],
   "source": [
    "import numpy as np\n",
    "train_heli = np.genfromtxt('CNN_features/train/heli/features_cnn.csv',delimiter=',')\n",
    "heli_labels = np.ones((train_heli.shape[0], 1))\n",
    "train_heli = np.hstack((train_heli, heli_labels))"
   ]
  },
  {
   "cell_type": "code",
   "execution_count": 34,
   "metadata": {
    "collapsed": false
   },
   "outputs": [],
   "source": [
    "train_boat = np.genfromtxt('CNN_features/train/boat/features_cnn.csv',delimiter=',')\n",
    "boat_labels = np.zeros((train_boat.shape[0], 1))\n",
    "train_boat = np.hstack((train_boat, boat_labels))"
   ]
  },
  {
   "cell_type": "code",
   "execution_count": 35,
   "metadata": {
    "collapsed": false
   },
   "outputs": [],
   "source": [
    "total_train = np.vstack((train_heli, train_boat))"
   ]
  },
  {
   "cell_type": "code",
   "execution_count": 39,
   "metadata": {
    "collapsed": false
   },
   "outputs": [],
   "source": [
    "test_heli = np.genfromtxt('CNN_features/test/heli/features_cnn.csv',delimiter=',')\n",
    "heli_labels = np.ones((test_heli.shape[0], 1))\n",
    "test_heli = np.hstack((test_heli, heli_labels))"
   ]
  },
  {
   "cell_type": "code",
   "execution_count": 40,
   "metadata": {
    "collapsed": true
   },
   "outputs": [],
   "source": [
    "test_boat = np.genfromtxt('CNN_features/test/boat/features_cnn.csv',delimiter=',')\n",
    "boat_labels = np.zeros((test_boat.shape[0], 1))\n",
    "test_boat = np.hstack((test_boat, boat_labels))"
   ]
  },
  {
   "cell_type": "code",
   "execution_count": 41,
   "metadata": {
    "collapsed": true
   },
   "outputs": [],
   "source": [
    "total_test = np.vstack((test_heli, test_boat))"
   ]
  },
  {
   "cell_type": "code",
   "execution_count": 64,
   "metadata": {
    "collapsed": false
   },
   "outputs": [
    {
     "data": {
      "text/plain": [
       "((617, 15), (617,))"
      ]
     },
     "execution_count": 64,
     "metadata": {},
     "output_type": "execute_result"
    }
   ],
   "source": [
    "from sklearn.linear_model import LinearRegression\n",
    "from sklearn.decomposition import PCA\n",
    "pca = PCA(n_components=15, svd_solver='arpack')\n",
    "lr = LogisticRegression(penalty='l1')\n",
    "trainX = total_train[:, :-1]\n",
    "trainY = total_train[:, -1]\n",
    "testX = total_test[:, :-1]\n",
    "testY = total_test[:, -1]\n",
    "trainX = pca.fit_transform(trainX)\n",
    "testX = pca.transform(testX)\n",
    "# trainY = trainY.reshape(trainY.shape[0], -1)\n",
    "trainX.shape, trainY.shape"
   ]
  },
  {
   "cell_type": "code",
   "execution_count": 65,
   "metadata": {
    "collapsed": false
   },
   "outputs": [
    {
     "name": "stdout",
     "output_type": "stream",
     "text": [
      "0.90113452188\n"
     ]
    },
    {
     "data": {
      "text/plain": [
       "0.66382978723404251"
      ]
     },
     "execution_count": 65,
     "metadata": {},
     "output_type": "execute_result"
    }
   ],
   "source": [
    "lr.fit(trainX, trainY)\n",
    "print(lr.score(trainX, trainY))\n",
    "lr.score(testX, testY)"
   ]
  },
  {
   "cell_type": "code",
   "execution_count": 42,
   "metadata": {
    "collapsed": false
   },
   "outputs": [
    {
     "data": {
      "text/plain": [
       "array([ 1.,  1.,  1.,  1.,  1.,  1.,  1.,  1.,  1.,  1.,  1.,  1.,  1.,\n",
       "        1.,  1.,  1.,  1.,  1.,  1.,  1.,  1.,  1.,  1.,  1.,  1.,  1.,\n",
       "        1.,  1.,  1.,  1.,  1.,  1.,  1.,  1.,  1.,  1.,  1.,  1.,  1.,\n",
       "        1.,  1.,  1.,  1.,  1.,  1.,  1.,  1.,  1.,  1.,  1.,  1.,  1.,\n",
       "        1.,  1.,  1.,  1.,  1.,  1.,  1.,  1.,  1.,  1.,  1.,  1.,  1.,\n",
       "        1.,  1.,  1.,  1.,  1.,  1.,  1.,  1.,  1.,  1.,  1.,  1.,  1.,\n",
       "        1.,  1.,  1.,  1.,  1.,  1.,  1.,  1.,  1.,  1.,  1.,  1.,  1.,\n",
       "        1.,  1.,  1.,  1.,  1.,  1.,  1.,  1.,  1.,  1.,  1.,  1.,  1.,\n",
       "        1.,  1.,  1.,  1.,  1.,  1.,  1.,  1.,  1.,  1.,  1.,  1.,  1.,\n",
       "        1.,  1.,  0.,  0.,  0.,  0.,  0.,  0.,  0.,  0.,  0.,  0.,  0.,\n",
       "        0.,  0.,  0.,  0.,  0.,  0.,  0.,  0.,  0.,  0.,  0.,  0.,  0.,\n",
       "        0.,  0.,  0.,  0.,  0.,  0.,  0.,  0.,  0.,  0.,  0.,  0.,  0.,\n",
       "        0.,  0.,  0.,  0.,  0.,  0.,  0.,  0.,  0.,  0.,  0.,  0.,  0.,\n",
       "        0.,  0.,  0.,  0.,  0.,  0.,  0.,  0.,  0.,  0.,  0.,  0.,  0.,\n",
       "        0.,  0.,  0.,  0.,  0.,  0.,  0.,  0.,  0.,  0.,  0.,  0.,  0.,\n",
       "        0.,  0.,  0.,  0.,  0.,  0.,  0.,  0.,  0.,  0.,  0.,  0.,  0.,\n",
       "        0.,  0.,  0.,  0.,  0.,  0.,  0.,  0.,  0.,  0.,  0.,  0.,  0.,\n",
       "        0.,  0.,  0.,  0.,  0.,  0.,  0.,  0.,  0.,  0.,  0.,  0.,  0.,  0.])"
      ]
     },
     "execution_count": 42,
     "metadata": {},
     "output_type": "execute_result"
    }
   ],
   "source": [
    "total_test[:, -1]"
   ]
  },
  {
   "cell_type": "code",
   "execution_count": null,
   "metadata": {
    "collapsed": true
   },
   "outputs": [],
   "source": []
  }
 ],
 "metadata": {
  "anaconda-cloud": {},
  "kernelspec": {
   "display_name": "py35",
   "language": "python",
   "name": "py35"
  },
  "language_info": {
   "codemirror_mode": {
    "name": "ipython",
    "version": 3
   },
   "file_extension": ".py",
   "mimetype": "text/x-python",
   "name": "python",
   "nbconvert_exporter": "python",
   "pygments_lexer": "ipython3",
   "version": "3.5.3"
  }
 },
 "nbformat": 4,
 "nbformat_minor": 1
}
