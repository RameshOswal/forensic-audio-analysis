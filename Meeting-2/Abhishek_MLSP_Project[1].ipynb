<!DOCTYPE html>
<html ng-app="notebooks">
<head>
    <meta charset="utf-8" />
    <meta name="google-site-verification" content="KbU3iN0xNAize9fZKStaAxmv3zSQKNGPNA8wBibCrZk" />
    <meta name="google-site-verification" content="odGuUtT2NIcDQrKKLShBxd6RYuqFnizdyWffrkHlPzQ" />
    <meta name="msvalidate.01" content="1FB238D982DEC598F9B856044DEA2D2B" /> <!-- bing web master tools -->
    <meta name="viewport" content="width=device-width, initial-scale=1.0">

        <meta name="description" content="This library contains many sample notebooks that are hosted on notebooks.azure.com.
">
        <meta name="keywords" content="IPython Microsoft Azure Jupyter notebooks online Python machine learning scientific computing technical computing workbook share sharing collaboration R F# FSharp anaconda pandas matplotlib jupyterlab ubuntu tutorial plot markdown">
    <title>Microsoft Azure Notebooks - Online Jupyter Notebooks</title>
    <link href="/Content/Site.less" rel="stylesheet"/>

    <link href="/Content/bootstrap/ng-tags-input.min.less" rel="stylesheet"/>

    <link href="/Content/bootstrap/ng-tags-input.bootstrap.min.less" rel="stylesheet"/>


    <script src="https://ajax.googleapis.com/ajax/libs/angularjs/1.5.8/angular.min.js"></script>
    <script src="https://ajax.googleapis.com/ajax/libs/angularjs/1.5.8/angular-route.min.js"></script>
    <script src="https://ajax.googleapis.com/ajax/libs/angularjs/1.5.8/angular-sanitize.min.js"></script>
    <script src="https://ajax.googleapis.com/ajax/libs/angularjs/1.5.8/angular-cookies.min.js"></script>
    <script src="https://ajax.googleapis.com/ajax/libs/angularjs/1.5.8/angular-messages.min.js"></script>

    <script src="/bundles/jquery?v=cRpZpqaBtXGD5K6oveCrw6zWYGnzQmjc9FSFuRkN9OM1"></script>

    <script src="/Scripts/slick.min.js"></script>

    <script src="/Scripts/typed.min.js"></script>


    <link rel="stylesheet" type="text/css" href="/Content/jupyter/4.3.1/components/codemirror/lib/codemirror.css">

    <script src="/bundles/angular_site?v=BARLPkt196jmxKfkYO8SPgGKODP2CVbXK5jhI3xSwGI1"></script>

    <script src="/bundles/angular-html?v=Ro-XJ7YP7ERG23tL29rVLRLpsGjTfAhSqfyMTWA_M5g1"></script>

    <script src="/Content/ui-bootstrap-tpls-2.1.4.min.js"></script>

    <script src="/Content/ng-tags-input.min.js"></script>

    <script src="/Scripts/clipboard.min.js"></script>


    <base href="/">
    <noscript></noscript>
</head>
<body ng-controller="SiteController as site">
    
    <input name="__RequestVerificationToken" type="hidden" value="T1Y1lmfa-EKnHZlD0hSMtUvOrxtnTMnGEigU1X5x9VT4XRlPocYN5e-k40zvVlVu-fNjINlMGvytZlCrYxGZUyXSJm0WxFXWx80ERiXAT_Y1" />

    <!-- BEGIN HEADER -->
<div class="header navbar-fixed-top">
    <div class="container brand-title">
        <a href="/#" class="logo" ms.pgarea="header" ms.cmpgrp="header" ms.cmptyp="link" ms.cmpnm="" ms.title="Microsoft Azure" ms.interactiontype="1">
            <span class="logo-text">Microsoft Azure</span>
            <p class="notebooks-text">Notebooks</p>
        </a>
        <a href="/help/preview" class="btn btn-preview">Preview</a>

        <div class="navbar-right desktop-navbar">
            <div class="account-nav">
                <div ng-if="site.getSignedIn()">
                    <div uib-dropdown>
                        <div class="ng-cloak">
                            <a href="#" id="user-dropdown" uib-dropdown-toggle>
                                {{site.getCurUserDisplayName()}}
                                <span class="glyphicon glyphicon-chevron-down account-chevron"></span>
                            </a>
                        </div>
                        <ul class="dropdown-menu account-menu" uib-dropdown-menu aria-labelledby="user-dropdown">
                            <li><a href="{{site.getUserHomeLink()}}#" title="Main Menu Profile"><span class="notebook-icon-profile account-menu-icon"></span>Profile</a><hr /></li>
                            <li><a href="/account/settings#" title="Main Menu Settings"><span class="glyphicon glyphicon-cog account-menu-icon"></span>Settings</a></li>
                            <li ng-if="site.getSignedIn()"><a href="/account/signout" ng-click="site.signout()" title="Main Menu Sign Out"><span class="glyphicon glyphicon-log-out account-menu-icon"></span>Sign out</a></li>
                        </ul>
                    </div>
                </div>
                <div ng-if="!site.getSignedIn()">
                    <a href="/account/signin#" ng-click="site.signin()" title="Main Menu Sign In">Sign In</a>
                </div>
            </div>
            <div ng-if="site.UserService.user.generatedId" ng-cloak>
                <a href="" ng-click="site.updateUserId()" class="configure-user-id">Configure User ID</a>
            </div>
        </div>

        <span class="mobile-navbar">
            <button type="button" class="navbar-toggle" data-toggle="collapse" data-target=".navbar-collapse" title="Main Menu">
                <span class="icon-bar"></span>
                <span class="icon-bar"></span>
                <span class="icon-bar"></span>
            </button>
        </span>
    </div>
    <div class="mobile-navbar">
        <div class="navbar-collapse collapse">
            <ul class="nav navbar-nav nav-fade">
                <li><a href="/home/libraries#" class="nav-item" ng-href="{{site.getUserHomeLink()}}/libraries#" title="Main Menu Libraries">Libraries</a></li>
                <li><a href="/new" class="nav-item" title="Main Menu What's New">What's New</a></li>
                <li><a href="/status" ng-href="/status" class="nav-item" title="Site Status and History">Status</a></li>
                <li><a href="/help" ng-href="{{site.contextHelpLink}}" class="nav-item" title="Help and Documenation">Help</a></li>

                <li ng-if="site.getSignedIn()"><a href="{{site.getUserHomeLink()}}#" title="Main Menu Profile">Profile</a></li>
                <li ng-if="site.getSignedIn()"><a href="/account/settings#" title="Main Menu Settings">Settings</a></li>
                <li ng-if="site.getSignedIn()"><a href="/account/signout" ng-click="site.signout()" title="Main Menu Sign Out">Sign out</a></li>

                <li ng-if="!site.getSignedIn()"><a href="/account/signin#" ng-click="site.signin()" title="Main Menu Sign In">Sign In</a></li>

            </ul>
        </div>
    </div>
    <div class="navbar navbar-inverse cortana-top-nav desktop-navbar">
        <div class="container">
            <ul class="nav navbar-nav nav-fade">
                <li><a href="/home/libraries#" class="nav-item" ng-href="{{site.getUserHomeLink()}}/libraries#" title="Main Menu Libraries">Libraries</a></li>
                <li><a href="/new#" class="nav-item" title="Main Menu What's New">What's New</a></li>
                <li><a href="/status#" class="nav-item" title="Site Status and History">Status</a></li>
                <li><a href="/help#" ng-href="{{site.contextHelpLink}}" class="nav-item" title="Help and Documenation">Help</a></li>
            </ul>
        </div>
    </div>
</div>

<!-- END HEADER -->


    <!-- BEGIN BODY -->

    
<div ng-view>
<div display="!$ctrl.user.id || $ctrl.library == undefined"><div>
    
    <div>
        <div>
    <div class="body-content info-page">
        <div class="jumbotron faq-header info-page-header jumbotron-with-breadcrumb-below">
            <div class="container">
                <h1 class="clip-text header-with-icon">
                    <span class="notebook-icon-library header-icon"></span>
                    <span class="header-text">MLSP_Notebook</span>
                </h1>
            </div>
            <div class="container">
                
                
                
            </div>
        </div>
        <div class="breadcrumb-holder">
            <ul class="breadcrumb breadcrumb-below-jumbotron container">
                <li>
                    <a href="/akar1">akar1</a>
                </li>
                <li>
                    <a href="/akar1/libraries">Libraries</a>
                </li>
                <li>
                    
                    
                </li>
                
                
            </ul>
        </div>
        <div class="container">
            
            

            <div class="file-preview-contents">
                <br><br>
                <div class="file-preview-header">README.html</div>
                <div class="user-library-desc file-preview-container"><p>This library contains many sample notebooks that are hosted on notebooks.azure.com.</p>
</div>
            </div>
        <div kb-shortcuts="$ctrl.keyBindings" focus-on="focusOnPagedDataPageChange" tabindex="-1" class="pagedData">
    <!-- Button bar -->
    <div class="row" focus-on="dialogClosedButtonDisabled">
        <div class="col-md-12">
            <span>
                
            </span><span>
                <span>
                    <button class="btn btn-default user-library-button pagedDataButton" ng-click="button.click($ctrl.data.items.selected)" ng-disabled="(button.contextual && $ctrl.data.items.getContextButtonsDisabled()) || button.getDisabled($ctrl.data.items.selected)" focus-on="undefined" title="Edit Library">
                        <span class="notebook-icon-edit library-button-icon"></span>
                        <span class="library-button-text library-button-text-lowpri">Edit</span>
                    </button>

                    

                    
                </span>
            </span><span>
                <span>
                    <button class="btn btn-default user-library-button pagedDataButton" ng-click="button.click($ctrl.data.items.selected)" ng-disabled="(button.contextual && $ctrl.data.items.getContextButtonsDisabled()) || button.getDisabled($ctrl.data.items.selected)" focus-on="undefined" title="Share Library">
                        <span class="notebook-icon-share library-button-icon"></span>
                        <span class="library-button-text ">Share</span>
                    </button>

                    

                    
                </span>
            </span><span>
                <span>
                    <button class="btn btn-default user-library-button pagedDataButton" ng-click="button.click($ctrl.data.items.selected)" ng-disabled="(button.contextual && $ctrl.data.items.getContextButtonsDisabled()) || button.getDisabled($ctrl.data.items.selected)" focus-on="undefined" title="Clone Library">
                        <span class="notebook-icon-clone library-button-icon"></span>
                        <span class="library-button-text ">Clone</span>
                    </button>

                    

                    
                </span>
            </span><span>
                <span>
                    

                    

                    <a class="btn btn-default user-library-button" href="/akar1/libraries/mlsp/clones" target="undefined" focus-on="button.focusOn" title="Clones">
                        <span class="notebook-icon-create-fork library-button-icon"></span>
                        <span class="library-button-text ">Clones</span>
                    </a>
                </span>
            </span><span>
                <span>
                    

                    

                    <a class="btn btn-default user-library-button" href="undefined" target="undefined" focus-on="button.focusOn" title="Open Terminal">
                        <span class="notebook-icon-terminal library-button-icon"></span>
                        <span class="library-button-text library-button-text-lowpri">Terminal</span>
                    </a>
                </span>
            </span><span>
                <span>
                    <button class="btn btn-default user-library-button pagedDataButton" ng-click="button.click($ctrl.data.items.selected)" ng-disabled="(button.contextual && $ctrl.data.items.getContextButtonsDisabled()) || button.getDisabled($ctrl.data.items.selected)" focus-on="undefined" title="Shutdown Server">
                        <span class="glyphicon glyphicon-stop"></span>
                        <span class="library-button-text library-button-text-lowpri">Shutdown</span>
                    </button>

                    

                    
                </span>
            </span><span>
                <span>
                    

                    

                    
                </span>
            </span><span>
                <span>
                    <button class="btn btn-default user-library-button pagedDataButton" ng-click="button.click($ctrl.data.items.selected)" ng-disabled="(button.contextual && $ctrl.data.items.getContextButtonsDisabled()) || button.getDisabled($ctrl.data.items.selected)" focus-on="undefined" title="Please clone this library to run">
                        <span class="notebook-icon-run library-button-icon"></span>
                        <span class="library-button-text ">Run</span>
                    </button>

                    

                    
                </span>
            </span><span>
                <span>
                    

                    

                    <a class="btn btn-default user-library-button" href="undefined" target="undefined" focus-on="button.focusOn" title="Preview or Print">
                        <span class="notebook-icon-print library-button-icon"></span>
                        <span class="library-button-text ">Edit</span>
                    </a>
                </span>
            </span><span>
                <span>
                    <button class="btn btn-default user-library-button pagedDataButton" ng-click="button.click($ctrl.data.items.selected)" ng-disabled="(button.contextual && $ctrl.data.items.getContextButtonsDisabled()) || button.getDisabled($ctrl.data.items.selected)" focus-on="undefined" title="Download File">
                        <span class="notebook-icon-download library-button-icon"></span>
                        <span class="library-button-text ">Download</span>
                    </button>

                    

                    
                </span>
            </span><span>
                
            </span>

        </div>
    </div>

    <!-- Filter UI -->
    <div class="input-group">
        <div class="filter-bar">
            <span class="searchFilter libFilterSearch">
                <label for="search" style="display:none" id="search">Search</label>
                <input type="search" ng-model="filter.search" title="Search" placeholder="Search">
            </span>
            
            
        </div><div class="filter-bar">
            
            
            <span class="paged-filters">
                <button class="btn btn-default user-library-button inactive" title="undefined" ng-click="filter.click()">
                    Show hidden items
                </button>
            </span>
        </div>
    </div>

    <!-- Table -->
    <div>
                <table role="grid" class="table display no-footer user-library-table" aria-label="Showing 1 to 10 of 13 notebooks">
                    <thead>
                        <tr role="row">
                            <th role="columnheader" width="*">File name</th>
                            
                            <th role="columnheader" width="100">File type</th>
                            <th role="columnheader" width="100">Modified</th>
                        </tr>
                    </thead>
                    <tbody>
                        <tr role="row">
                            <td role="gridcell" aria-label="undefined">
                                
                                <a href="/akar1/libraries/mlsp/html/.ipynb_checkpoints">
                                    <i class="undefined"></i>&nbspundefined
                                </a>
                                

                                <div ng-show="$ctrl.renameInProgressForFile && $ctrl.renameInProgressForFile.path===file.path" class="force-inline">
                                    <form ng-submit="$ctrl.rename()" class="force-inline" stop-click-propogation="">
                                        <input class="input-field inline-rename-input" type="text" ng-model="$ctrl.newFileName" autocomplete="off" size="15" title="File Name" focus-on="renameFileFocus" placeholder="File Name" on-escape="$ctrl.cancelRename()">
                                    </form>
                                </div>
                            </td>
                            
                            <td role="gridcell">undefined</td>
                            <td role="gridcell" title=""></td>
                            
                        </tr><tr role="row">
                            <td role="gridcell" aria-label="undefined">
                                
                                <a href="/akar1/libraries/mlsp/html/Abhishek_MLSP_Project.ipynb">
                                    <i class="undefined"></i>&nbspundefined
                                </a>
                                

                                <div ng-show="$ctrl.renameInProgressForFile && $ctrl.renameInProgressForFile.path===file.path" class="force-inline">
                                    <form ng-submit="$ctrl.rename()" class="force-inline" stop-click-propogation="">
                                        <input class="input-field inline-rename-input" type="text" ng-model="$ctrl.newFileName" autocomplete="off" size="15" title="File Name" focus-on="renameFileFocus" placeholder="File Name" on-escape="$ctrl.cancelRename()">
                                    </form>
                                </div>
                            </td>
                            
                            <td role="gridcell">undefined</td>
                            <td role="gridcell" title="10/21/2017 6:24:30 AM +00:00">Oct 21, 2017</td>
                            
                        </tr><tr role="row">
                            <td role="gridcell" aria-label="undefined">
                                
                                <a href="/akar1/libraries/mlsp/html/Cessna+172+-+Engine+Change+Start+Up.wav">
                                    <i class="undefined"></i>&nbspundefined
                                </a>
                                

                                <div ng-show="$ctrl.renameInProgressForFile && $ctrl.renameInProgressForFile.path===file.path" class="force-inline">
                                    <form ng-submit="$ctrl.rename()" class="force-inline" stop-click-propogation="">
                                        <input class="input-field inline-rename-input" type="text" ng-model="$ctrl.newFileName" autocomplete="off" size="15" title="File Name" focus-on="renameFileFocus" placeholder="File Name" on-escape="$ctrl.cancelRename()">
                                    </form>
                                </div>
                            </td>
                            
                            <td role="gridcell">undefined</td>
                            <td role="gridcell" title="10/21/2017 6:11:24 AM +00:00">Oct 21, 2017</td>
                            
                        </tr><tr role="row">
                            <td role="gridcell" aria-label="undefined">
                                
                                <a href="/akar1/libraries/mlsp/html/Cessna%2520172%2520-%2520Engine%2520Change%2520Start%2520Up%5b1%5d.wav">
                                    <i class="undefined"></i>&nbspundefined
                                </a>
                                

                                <div ng-show="$ctrl.renameInProgressForFile && $ctrl.renameInProgressForFile.path===file.path" class="force-inline">
                                    <form ng-submit="$ctrl.rename()" class="force-inline" stop-click-propogation="">
                                        <input class="input-field inline-rename-input" type="text" ng-model="$ctrl.newFileName" autocomplete="off" size="15" title="File Name" focus-on="renameFileFocus" placeholder="File Name" on-escape="$ctrl.cancelRename()">
                                    </form>
                                </div>
                            </td>
                            
                            <td role="gridcell">undefined</td>
                            <td role="gridcell" title="10/20/2017 8:02:38 PM +00:00">Oct 20, 2017</td>
                            
                        </tr><tr role="row">
                            <td role="gridcell" aria-label="undefined">
                                
                                <a href="/akar1/libraries/mlsp/html/CombinedBirdSoundsHTML.txt">
                                    <i class="undefined"></i>&nbspundefined
                                </a>
                                

                                <div ng-show="$ctrl.renameInProgressForFile && $ctrl.renameInProgressForFile.path===file.path" class="force-inline">
                                    <form ng-submit="$ctrl.rename()" class="force-inline" stop-click-propogation="">
                                        <input class="input-field inline-rename-input" type="text" ng-model="$ctrl.newFileName" autocomplete="off" size="15" title="File Name" focus-on="renameFileFocus" placeholder="File Name" on-escape="$ctrl.cancelRename()">
                                    </form>
                                </div>
                            </td>
                            
                            <td role="gridcell">undefined</td>
                            <td role="gridcell" title="10/11/2017 6:52:29 PM +00:00">Oct 11, 2017</td>
                            
                        </tr><tr role="row">
                            <td role="gridcell" aria-label="undefined">
                                
                                <a href="/akar1/libraries/mlsp/html/FLMNH09473.mp3">
                                    <i class="undefined"></i>&nbspundefined
                                </a>
                                

                                <div ng-show="$ctrl.renameInProgressForFile && $ctrl.renameInProgressForFile.path===file.path" class="force-inline">
                                    <form ng-submit="$ctrl.rename()" class="force-inline" stop-click-propogation="">
                                        <input class="input-field inline-rename-input" type="text" ng-model="$ctrl.newFileName" autocomplete="off" size="15" title="File Name" focus-on="renameFileFocus" placeholder="File Name" on-escape="$ctrl.cancelRename()">
                                    </form>
                                </div>
                            </td>
                            
                            <td role="gridcell">undefined</td>
                            <td role="gridcell" title="10/19/2017 6:46:52 AM +00:00">Oct 19, 2017</td>
                            
                        </tr><tr role="row">
                            <td role="gridcell" aria-label="undefined">
                                
                                <a href="/akar1/libraries/mlsp/html/Getting+to+your+Data+in+Azure+Notebooks.ipynb">
                                    <i class="undefined"></i>&nbspundefined
                                </a>
                                

                                <div ng-show="$ctrl.renameInProgressForFile && $ctrl.renameInProgressForFile.path===file.path" class="force-inline">
                                    <form ng-submit="$ctrl.rename()" class="force-inline" stop-click-propogation="">
                                        <input class="input-field inline-rename-input" type="text" ng-model="$ctrl.newFileName" autocomplete="off" size="15" title="File Name" focus-on="renameFileFocus" placeholder="File Name" on-escape="$ctrl.cancelRename()">
                                    </form>
                                </div>
                            </td>
                            
                            <td role="gridcell">undefined</td>
                            <td role="gridcell" title="10/11/2017 8:59:49 PM +00:00">Oct 11, 2017</td>
                            
                        </tr><tr role="row">
                            <td role="gridcell" aria-label="undefined">
                                
                                <a href="/akar1/libraries/mlsp/html/OutboardMotorsHTML_DuckDuckGo_Boats.txt">
                                    <i class="undefined"></i>&nbspundefined
                                </a>
                                

                                <div ng-show="$ctrl.renameInProgressForFile && $ctrl.renameInProgressForFile.path===file.path" class="force-inline">
                                    <form ng-submit="$ctrl.rename()" class="force-inline" stop-click-propogation="">
                                        <input class="input-field inline-rename-input" type="text" ng-model="$ctrl.newFileName" autocomplete="off" size="15" title="File Name" focus-on="renameFileFocus" placeholder="File Name" on-escape="$ctrl.cancelRename()">
                                    </form>
                                </div>
                            </td>
                            
                            <td role="gridcell">undefined</td>
                            <td role="gridcell" title="10/11/2017 7:03:43 PM +00:00">Oct 11, 2017</td>
                            
                        </tr><tr role="row">
                            <td role="gridcell" aria-label="undefined">
                                
                                <a href="/akar1/libraries/mlsp/html/README.html">
                                    <i class="undefined"></i>&nbspundefined
                                </a>
                                

                                <div ng-show="$ctrl.renameInProgressForFile && $ctrl.renameInProgressForFile.path===file.path" class="force-inline">
                                    <form ng-submit="$ctrl.rename()" class="force-inline" stop-click-propogation="">
                                        <input class="input-field inline-rename-input" type="text" ng-model="$ctrl.newFileName" autocomplete="off" size="15" title="File Name" focus-on="renameFileFocus" placeholder="File Name" on-escape="$ctrl.cancelRename()">
                                    </form>
                                </div>
                            </td>
                            
                            <td role="gridcell">undefined</td>
                            <td role="gridcell" title="10/11/2017 5:45:57 PM +00:00">Oct 11, 2017</td>
                            
                        </tr><tr role="row">
                            <td role="gridcell" aria-label="undefined">
                                
                                <a href="/akar1/libraries/mlsp/html/spark-warehouse">
                                    <i class="undefined"></i>&nbspundefined
                                </a>
                                

                                <div ng-show="$ctrl.renameInProgressForFile && $ctrl.renameInProgressForFile.path===file.path" class="force-inline">
                                    <form ng-submit="$ctrl.rename()" class="force-inline" stop-click-propogation="">
                                        <input class="input-field inline-rename-input" type="text" ng-model="$ctrl.newFileName" autocomplete="off" size="15" title="File Name" focus-on="renameFileFocus" placeholder="File Name" on-escape="$ctrl.cancelRename()">
                                    </form>
                                </div>
                            </td>
                            
                            <td role="gridcell">undefined</td>
                            <td role="gridcell" title=""></td>
                            
                        </tr>
                        
                        
                        
                    </tbody>
                </table>
            </div>

    <!-- Pagination -->
    <div>
        Showing 1 to 10 of 13 notebooks

        <div class="pull-right">
            <ul title="Page undefined" class="pagination"><li><a href="https://notebooks.azure.com/akar1/libraries/mlsp?page=0" disabled="disabled">&lt;</a></li><li><a href="https://notebooks.azure.com/akar1/libraries/mlsp?page=1">1</a></li><li><a href="https://notebooks.azure.com/akar1/libraries/mlsp?page=2">2</a></li><li><a href="https://notebooks.azure.com/akar1/libraries/mlsp?page=1">&gt;</a></li></ul>
        </div>
    </div>
</div></div>
    </div>
</div>
    </div>
</div></div>
</div>



    <!-- END BODY -->

    <!-- BEGIN FOOTER -->
<footer class="footer">
    <div class="container">
        <ul>
            <li>
                <a href="https://github.com/Microsoft/AzureNotebooks/issues" ms.title="Contact us" class="ctl_footerNavLink" data-bi-name="Footer_ContactUs" data-bi-slot="1" ms.ea_action="ntd">
                    Contact us
                </a>
            </li>
            <li>
                <a href="/faq" ms.title="FAQ" class="ctl_footerNavLink" data-bi-name="Footer_FaqSupport" data-bi-slot="1" ms.ea_action="ntd">
                    FAQ
                </a>
            </li>
            <li>
                <a href="https://go.microsoft.com/fwlink/?LinkId=248681" ms.title="Privacy and cookies " class="ctl_footerNavLink" data-bi-name="Footer_PrivacyandCookies" data-bi-slot="2" ms.ea_action="ntd">
                    Privacy and cookies
                </a>
            </li>
            <li>
                <a href="https://go.microsoft.com/fwlink/?LinkID=530144" ms.title="Terms of use" class="ctl_footerNavLink" data-bi-name="Footer_TermsOfUse" data-bi-slot="3" ms.ea_action="ntd">
                    Terms of use
                </a>
            </li>
            <li>
                <a href="https://www.microsoft.com/en-us/legal/intellectualproperty/trademarks/en-us.aspx" ms.title="Trademarks" class="ctl_footerNavLink" data-bi-name="Footer_Trademarks" data-bi-slot="4" ms.ea_action="ntd">
                    Trademarks
                </a>
            </li>

            <li class="copyright">
                © 2017 Microsoft
            </li>
        </ul>
    </div>
</footer>

<!-- END FOOTER -->


    <script src="/bundles/bootstrap?v=clcVu4Lcmou_xRuHSx7pW5pLei8nr1SWy7AqzsI37ps1"></script>

</body>
</html>
