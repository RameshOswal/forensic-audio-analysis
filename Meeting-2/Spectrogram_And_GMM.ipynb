{
 "cells": [
  {
   "cell_type": "markdown",
   "metadata": {},
   "source": [
    "## Audio Forensics for Maritime Recognition"
   ]
  },
  {
   "cell_type": "code",
   "execution_count": 28,
   "metadata": {},
   "outputs": [
    {
     "name": "stdout",
     "output_type": "stream",
     "text": [
      "Enter password: ········\n",
      "Verify password: ········\n"
     ]
    },
    {
     "data": {
      "text/plain": [
       "'sha1:0a0cc3b54bf0:24f75bfe066c3ea9b79a38b1ff55ce9cc69b56e1'"
      ]
     },
     "execution_count": 28,
     "metadata": {},
     "output_type": "execute_result"
    }
   ],
   "source": [
    "### Dont Touch This Unless you want to change the access password\n",
    "from notebook.auth import passwd\n",
    "passwd()\n",
    "###"
   ]
  },
  {
   "cell_type": "code",
   "execution_count": 9,
   "metadata": {},
   "outputs": [
    {
     "name": "stdout",
     "output_type": "stream",
     "text": [
      "Fetching package metadata .............\n",
      "Solving package specifications: .\n",
      "\n",
      "# All requested packages already installed.\n",
      "# packages in environment at /home/nbcommon/anaconda3_410:\n",
      "#\n",
      "librosa                   0.5.1                    py35_1    conda-forge\n"
     ]
    }
   ],
   "source": [
    "!conda install -y -c conda-forge librosa"
   ]
  },
  {
   "cell_type": "code",
   "execution_count": 5,
   "metadata": {},
   "outputs": [
    {
     "name": "stdout",
     "output_type": "stream",
     "text": [
      "Collecting audioread\n",
      "  Downloading audioread-2.1.5.tar.gz\n",
      "Building wheels for collected packages: audioread\n",
      "  Running setup.py bdist_wheel for audioread ... \u001b[?25ldone\n",
      "\u001b[?25h  Stored in directory: /home/nbuser/.cache/pip/wheels/47/cc/d8/e1476000d1720a72117ef5c0b1a51388b8567ebfface47ede7\n",
      "Successfully built audioread\n",
      "Installing collected packages: audioread\n",
      "  Found existing installation: audioread 2.1.4\n",
      "\u001b[31m    DEPRECATION: Uninstalling a distutils installed project (audioread) has been deprecated and will be removed in a future version. This is due to the fact that uninstalling a distutils project will only partially uninstall the project.\u001b[0m\n",
      "    Uninstalling audioread-2.1.4:\n",
      "      Successfully uninstalled audioread-2.1.4\n",
      "Successfully installed audioread-2.1.5\n"
     ]
    }
   ],
   "source": [
    "!pip install --upgrade audioread"
   ]
  },
  {
   "cell_type": "code",
   "execution_count": 2,
   "metadata": {},
   "outputs": [
    {
     "name": "stdout",
     "output_type": "stream",
     "text": [
      "Collecting Wand\n",
      "  Downloading Wand-0.4.4.tar.gz (65kB)\n",
      "\u001b[K    100% |################################| 71kB 1.1MB/s ta 0:00:011\n",
      "\u001b[?25hBuilding wheels for collected packages: Wand\n",
      "  Running setup.py bdist_wheel for Wand ... \u001b[?25ldone\n",
      "\u001b[?25h  Stored in directory: /home/nbuser/.cache/pip/wheels/18/40/0d/27d632088ea23dfb9a275da88e26bd992fd01b4e03a81ce5e2\n",
      "Successfully built Wand\n",
      "Installing collected packages: Wand\n",
      "Successfully installed Wand-0.4.4\n"
     ]
    }
   ],
   "source": [
    "!pip install Wand"
   ]
  },
  {
   "cell_type": "code",
   "execution_count": 7,
   "metadata": {},
   "outputs": [
    {
     "name": "stdout",
     "output_type": "stream",
     "text": [
      "Fetching package metadata .............\n",
      "Solving package specifications: .\n",
      "\n",
      "# All requested packages already installed.\n",
      "# packages in environment at /home/nbcommon/anaconda3_410:\n",
      "#\n",
      "ffmpeg                    3.2.4                         1    conda-forge\n"
     ]
    }
   ],
   "source": [
    "!conda install -yc conda-forge ffmpeg"
   ]
  },
  {
   "cell_type": "markdown",
   "metadata": {},
   "source": [
    "### Attempting to setup Tensorflow for use"
   ]
  },
  {
   "cell_type": "code",
   "execution_count": 4,
   "metadata": {},
   "outputs": [
    {
     "data": {
      "text/plain": [
       "<tf.Tensor 'Rank:0' shape=() dtype=int32>"
      ]
     },
     "execution_count": 4,
     "metadata": {},
     "output_type": "execute_result"
    }
   ],
   "source": [
    "import tensorflow as tf\n",
    "mammal = tf.Variable(\"Elephant\", tf.string)\n",
    "tf.rank(mammal)"
   ]
  },
  {
   "cell_type": "markdown",
   "metadata": {},
   "source": [
    "### Scraping Attempt for the collection of the following data:\n",
    "    ### Marine Birds\n",
    "    ### Commercial Boats, \n",
    "    ### Military Boats, \n",
    "    ### Commercial Airplanes, \n",
    "    ### Military Airplanes"
   ]
  },
  {
   "cell_type": "markdown",
   "metadata": {},
   "source": [
    "#### Created a utility function for html gathering from specific file indexes, regex matching and string cleanup before retrieval."
   ]
  },
  {
   "cell_type": "code",
   "execution_count": 2,
   "metadata": {
    "collapsed": true
   },
   "outputs": [],
   "source": [
    "import os\n",
    "import re\n",
    "\n",
    "def get_regex_from_html(regex_pattern, prefix, filter_start = 0, filter_end = None, parent_directory=os.getcwd()): \n",
    "    ls = set()\n",
    "    # main_dir = 'E:\\Machine_Learning_For_Signal_Processing\\BirdSoundsHTML'\n",
    "    for filename in os.listdir(parent_directory):\n",
    "        full_filename = parent_directory + '//' + filename\n",
    "        if os.path.isfile(full_filename) and filename.startswith(prefix) and filename.endswith('txt'):\n",
    "            with open(full_filename) as file_:\n",
    "                ls |= set(map(lambda x: x[filter_start:filter_end], re.findall(regex_pattern, file_.read())))\n",
    "    print '\\n'.join(ls)"
   ]
  },
  {
   "cell_type": "markdown",
   "metadata": {},
   "source": [
    "#### Scraping Bird Sounds from https://www.floridamuseum.ufl.edu/bird-sounds/"
   ]
  },
  {
   "cell_type": "markdown",
   "metadata": {},
   "source": [
    "    # Traversed the source code of the page and changed the inspect element dropdown for # of results to add `<option value=\"500\">500</option>`.\n",
    "    # Selected the Charadriiformes Order since most North American Shorebirds fall into that category\n",
    "    # Leveraged the utility function for cleanup and retrieval using a regex filter as given below."
   ]
  },
  {
   "cell_type": "code",
   "execution_count": 3,
   "metadata": {
    "scrolled": true
   },
   "outputs": [
    {
     "name": "stdout",
     "output_type": "stream",
     "text": [
      "https://www.floridamuseum.ufl.edu/bird-sounds/mp3/FLMNH19781.mp3\n",
      "https://www.floridamuseum.ufl.edu/bird-sounds/mp3/FLMNH00802.mp3\n",
      "https://www.floridamuseum.ufl.edu/bird-sounds/mp3/FLMNH08931.mp3\n",
      "https://www.floridamuseum.ufl.edu/bird-sounds/mp3/FLMNH14034.mp3\n",
      "https://www.floridamuseum.ufl.edu/bird-sounds/mp3/FLMNH22027.mp3\n",
      "https://www.floridamuseum.ufl.edu/bird-sounds/mp3/FLMNH00147.mp3\n",
      "https://www.floridamuseum.ufl.edu/bird-sounds/mp3/FLMNH07312.mp3\n",
      "https://www.floridamuseum.ufl.edu/bird-sounds/mp3/FLMNH21039.mp3\n",
      "https://www.floridamuseum.ufl.edu/bird-sounds/mp3/FLMNH22439.mp3\n",
      "https://www.floridamuseum.ufl.edu/bird-sounds/mp3/FLMNH09473.mp3\n",
      "https://www.floridamuseum.ufl.edu/bird-sounds/mp3/FLMNH20011.mp3\n",
      "https://www.floridamuseum.ufl.edu/bird-sounds/mp3/FLMNH04401.mp3\n",
      "https://www.floridamuseum.ufl.edu/bird-sounds/mp3/FLMNH16236.mp3\n",
      "https://www.floridamuseum.ufl.edu/bird-sounds/mp3/FLMNH05893.mp3\n",
      "https://www.floridamuseum.ufl.edu/bird-sounds/mp3/FLMNH14384.mp3\n",
      "https://www.floridamuseum.ufl.edu/bird-sounds/mp3/FLMNH12005.mp3\n",
      "https://www.floridamuseum.ufl.edu/bird-sounds/mp3/FLMNH01426.mp3\n",
      "https://www.floridamuseum.ufl.edu/bird-sounds/mp3/FLMNH01159.mp3\n",
      "https://www.floridamuseum.ufl.edu/bird-sounds/mp3/FLMNH18636.mp3\n",
      "https://www.floridamuseum.ufl.edu/bird-sounds/mp3/FLMNH09614.mp3\n",
      "https://www.floridamuseum.ufl.edu/bird-sounds/mp3/FLMNH04124.mp3\n",
      "https://www.floridamuseum.ufl.edu/bird-sounds/mp3/FLMNH22291.mp3\n",
      "https://www.floridamuseum.ufl.edu/bird-sounds/mp3/FLMNH18889.mp3\n",
      "https://www.floridamuseum.ufl.edu/bird-sounds/mp3/FLMNH08267.mp3\n",
      "https://www.floridamuseum.ufl.edu/bird-sounds/mp3/FLMNH03260.mp3\n",
      "https://www.floridamuseum.ufl.edu/bird-sounds/mp3/FLMNH13904.mp3\n",
      "https://www.floridamuseum.ufl.edu/bird-sounds/mp3/FLMNH14030.mp3\n",
      "https://www.floridamuseum.ufl.edu/bird-sounds/mp3/FLMNH14013.mp3\n",
      "https://www.floridamuseum.ufl.edu/bird-sounds/mp3/FLMNH10082.mp3\n",
      "https://www.floridamuseum.ufl.edu/bird-sounds/mp3/FLMNH08974.mp3\n",
      "https://www.floridamuseum.ufl.edu/bird-sounds/mp3/FLMNH14383.mp3\n",
      "https://www.floridamuseum.ufl.edu/bird-sounds/mp3/FLMNH10211.mp3\n",
      "https://www.floridamuseum.ufl.edu/bird-sounds/mp3/FLMNH10874.mp3\n",
      "https://www.floridamuseum.ufl.edu/bird-sounds/mp3/FLMNH09255.mp3\n",
      "https://www.floridamuseum.ufl.edu/bird-sounds/mp3/FLMNH10066.mp3\n",
      "https://www.floridamuseum.ufl.edu/bird-sounds/mp3/FLMNH24224.mp3\n",
      "https://www.floridamuseum.ufl.edu/bird-sounds/mp3/FLMNH22252.mp3\n",
      "https://www.floridamuseum.ufl.edu/bird-sounds/mp3/FLMNH22349.mp3\n",
      "https://www.floridamuseum.ufl.edu/bird-sounds/mp3/FLMNH00951.mp3\n",
      "https://www.floridamuseum.ufl.edu/bird-sounds/mp3/FLMNH22475.mp3\n",
      "https://www.floridamuseum.ufl.edu/bird-sounds/mp3/FLMNH15888.mp3\n",
      "https://www.floridamuseum.ufl.edu/bird-sounds/mp3/FLMNH00955.mp3\n",
      "https://www.floridamuseum.ufl.edu/bird-sounds/mp3/FLMNH00149.mp3\n",
      "https://www.floridamuseum.ufl.edu/bird-sounds/mp3/FLMNH13940.mp3\n",
      "https://www.floridamuseum.ufl.edu/bird-sounds/mp3/FLMNH00803.mp3\n",
      "https://www.floridamuseum.ufl.edu/bird-sounds/mp3/FLMNH00189.mp3\n",
      "https://www.floridamuseum.ufl.edu/bird-sounds/mp3/FLMNH16280.mp3\n",
      "https://www.floridamuseum.ufl.edu/bird-sounds/mp3/FLMNH01361.mp3\n",
      "https://www.floridamuseum.ufl.edu/bird-sounds/mp3/FLMNH13905.mp3\n",
      "https://www.floridamuseum.ufl.edu/bird-sounds/mp3/FLMNH09645.mp3\n",
      "https://www.floridamuseum.ufl.edu/bird-sounds/mp3/FLMNH16110.mp3\n",
      "https://www.floridamuseum.ufl.edu/bird-sounds/mp3/FLMNH14029.mp3\n",
      "https://www.floridamuseum.ufl.edu/bird-sounds/mp3/FLMNH07310.mp3\n",
      "https://www.floridamuseum.ufl.edu/bird-sounds/mp3/FLMNH04144.mp3\n",
      "https://www.floridamuseum.ufl.edu/bird-sounds/mp3/FLMNH07306.mp3\n",
      "https://www.floridamuseum.ufl.edu/bird-sounds/mp3/FLMNH14943.mp3\n",
      "https://www.floridamuseum.ufl.edu/bird-sounds/mp3/FLMNH03856.mp3\n",
      "https://www.floridamuseum.ufl.edu/bird-sounds/mp3/FLMNH11944.mp3\n",
      "https://www.floridamuseum.ufl.edu/bird-sounds/mp3/FLMNH04870.mp3\n",
      "https://www.floridamuseum.ufl.edu/bird-sounds/mp3/FLMNH09262.mp3\n",
      "https://www.floridamuseum.ufl.edu/bird-sounds/mp3/FLMNH01430.mp3\n",
      "https://www.floridamuseum.ufl.edu/bird-sounds/mp3/FLMNH22128.mp3\n",
      "https://www.floridamuseum.ufl.edu/bird-sounds/mp3/FLMNH07311.mp3\n",
      "https://www.floridamuseum.ufl.edu/bird-sounds/mp3/FLMNH10080.mp3\n",
      "https://www.floridamuseum.ufl.edu/bird-sounds/mp3/FLMNH14027.mp3\n",
      "https://www.floridamuseum.ufl.edu/bird-sounds/mp3/FLMNH18769.mp3\n",
      "https://www.floridamuseum.ufl.edu/bird-sounds/mp3/FLMNH01431.mp3\n",
      "https://www.floridamuseum.ufl.edu/bird-sounds/mp3/FLMNH14373.mp3\n",
      "https://www.floridamuseum.ufl.edu/bird-sounds/mp3/FLMNH14020.mp3\n",
      "https://www.floridamuseum.ufl.edu/bird-sounds/mp3/FLMNH08975.mp3\n",
      "https://www.floridamuseum.ufl.edu/bird-sounds/mp3/FLMNH14028.mp3\n",
      "https://www.floridamuseum.ufl.edu/bird-sounds/mp3/FLMNH22735.mp3\n",
      "https://www.floridamuseum.ufl.edu/bird-sounds/mp3/FLMNH09612.mp3\n",
      "https://www.floridamuseum.ufl.edu/bird-sounds/mp3/FLMNH24465.mp3\n",
      "https://www.floridamuseum.ufl.edu/bird-sounds/mp3/FLMNH12045.mp3\n",
      "https://www.floridamuseum.ufl.edu/bird-sounds/mp3/FLMNH23029.mp3\n",
      "https://www.floridamuseum.ufl.edu/bird-sounds/mp3/FLMNH22137.mp3\n",
      "https://www.floridamuseum.ufl.edu/bird-sounds/mp3/FLMNH05189.mp3\n",
      "https://www.floridamuseum.ufl.edu/bird-sounds/mp3/FLMNH10067.mp3\n",
      "https://www.floridamuseum.ufl.edu/bird-sounds/mp3/FLMNH09639.mp3\n",
      "https://www.floridamuseum.ufl.edu/bird-sounds/mp3/FLMNH19286.mp3\n",
      "https://www.floridamuseum.ufl.edu/bird-sounds/mp3/FLMNH11539.mp3\n",
      "https://www.floridamuseum.ufl.edu/bird-sounds/mp3/FLMNH09635.mp3\n",
      "https://www.floridamuseum.ufl.edu/bird-sounds/mp3/FLMNH14946.mp3\n",
      "https://www.floridamuseum.ufl.edu/bird-sounds/mp3/FLMNH19008.mp3\n",
      "https://www.floridamuseum.ufl.edu/bird-sounds/mp3/FLMNH09623.mp3\n",
      "https://www.floridamuseum.ufl.edu/bird-sounds/mp3/FLMNH14377.mp3\n",
      "https://www.floridamuseum.ufl.edu/bird-sounds/mp3/FLMNH13914.mp3\n",
      "https://www.floridamuseum.ufl.edu/bird-sounds/mp3/FLMNH07273.mp3\n",
      "https://www.floridamuseum.ufl.edu/bird-sounds/mp3/FLMNH12050.mp3\n",
      "https://www.floridamuseum.ufl.edu/bird-sounds/mp3/FLMNH06106.mp3\n",
      "https://www.floridamuseum.ufl.edu/bird-sounds/mp3/FLMNH08072.mp3\n",
      "https://www.floridamuseum.ufl.edu/bird-sounds/mp3/FLMNH07315.mp3\n",
      "https://www.floridamuseum.ufl.edu/bird-sounds/mp3/FLMNH13910.mp3\n",
      "https://www.floridamuseum.ufl.edu/bird-sounds/mp3/FLMNH00989.mp3\n",
      "https://www.floridamuseum.ufl.edu/bird-sounds/mp3/FLMNH00788.mp3\n",
      "https://www.floridamuseum.ufl.edu/bird-sounds/mp3/FLMNH10237.mp3\n",
      "https://www.floridamuseum.ufl.edu/bird-sounds/mp3/FLMNH11474.mp3\n",
      "https://www.floridamuseum.ufl.edu/bird-sounds/mp3/FLMNH08950.mp3\n",
      "https://www.floridamuseum.ufl.edu/bird-sounds/mp3/FLMNH09261.mp3\n",
      "https://www.floridamuseum.ufl.edu/bird-sounds/mp3/FLMNH11941.mp3\n",
      "https://www.floridamuseum.ufl.edu/bird-sounds/mp3/FLMNH11936.mp3\n",
      "https://www.floridamuseum.ufl.edu/bird-sounds/mp3/FLMNH03942.mp3\n",
      "https://www.floridamuseum.ufl.edu/bird-sounds/mp3/FLMNH10074.mp3\n",
      "https://www.floridamuseum.ufl.edu/bird-sounds/mp3/FLMNH10063.mp3\n",
      "https://www.floridamuseum.ufl.edu/bird-sounds/mp3/FLMNH11942.mp3\n",
      "https://www.floridamuseum.ufl.edu/bird-sounds/mp3/FLMNH24373.mp3\n",
      "https://www.floridamuseum.ufl.edu/bird-sounds/mp3/FLMNH24370.mp3\n",
      "https://www.floridamuseum.ufl.edu/bird-sounds/mp3/FLMNH14017.mp3\n",
      "https://www.floridamuseum.ufl.edu/bird-sounds/mp3/FLMNH08973.mp3\n",
      "https://www.floridamuseum.ufl.edu/bird-sounds/mp3/FLMNH09322.mp3\n",
      "https://www.floridamuseum.ufl.edu/bird-sounds/mp3/FLMNH14014.mp3\n",
      "https://www.floridamuseum.ufl.edu/bird-sounds/mp3/FLMNH01358.mp3\n",
      "https://www.floridamuseum.ufl.edu/bird-sounds/mp3/FLMNH16265.mp3\n",
      "https://www.floridamuseum.ufl.edu/bird-sounds/mp3/FLMNH01178.mp3\n",
      "https://www.floridamuseum.ufl.edu/bird-sounds/mp3/FLMNH21314.mp3\n",
      "https://www.floridamuseum.ufl.edu/bird-sounds/mp3/FLMNH09112.mp3\n",
      "https://www.floridamuseum.ufl.edu/bird-sounds/mp3/FLMNH01429.mp3\n",
      "https://www.floridamuseum.ufl.edu/bird-sounds/mp3/FLMNH17264.mp3\n",
      "https://www.floridamuseum.ufl.edu/bird-sounds/mp3/FLMNH09634.mp3\n",
      "https://www.floridamuseum.ufl.edu/bird-sounds/mp3/FLMNH03848.mp3\n",
      "https://www.floridamuseum.ufl.edu/bird-sounds/mp3/FLMNH05400.mp3\n",
      "https://www.floridamuseum.ufl.edu/bird-sounds/mp3/FLMNH05232.mp3\n",
      "https://www.floridamuseum.ufl.edu/bird-sounds/mp3/FLMNH01427.mp3\n",
      "https://www.floridamuseum.ufl.edu/bird-sounds/mp3/FLMNH07313.mp3\n",
      "https://www.floridamuseum.ufl.edu/bird-sounds/mp3/FLMNH09609.mp3\n",
      "https://www.floridamuseum.ufl.edu/bird-sounds/mp3/FLMNH14945.mp3\n",
      "https://www.floridamuseum.ufl.edu/bird-sounds/mp3/FLMNH24369.mp3\n",
      "https://www.floridamuseum.ufl.edu/bird-sounds/mp3/FLMNH11513.mp3\n",
      "https://www.floridamuseum.ufl.edu/bird-sounds/mp3/FLMNH00303.mp3\n",
      "https://www.floridamuseum.ufl.edu/bird-sounds/mp3/FLMNH14382.mp3\n",
      "https://www.floridamuseum.ufl.edu/bird-sounds/mp3/FLMNH04400.mp3\n",
      "https://www.floridamuseum.ufl.edu/bird-sounds/mp3/FLMNH07320.mp3\n",
      "https://www.floridamuseum.ufl.edu/bird-sounds/mp3/FLMNH09479.mp3\n",
      "https://www.floridamuseum.ufl.edu/bird-sounds/mp3/FLMNH06429.mp3\n",
      "https://www.floridamuseum.ufl.edu/bird-sounds/mp3/FLMNH05451.mp3\n",
      "https://www.floridamuseum.ufl.edu/bird-sounds/mp3/FLMNH09097.mp3\n",
      "https://www.floridamuseum.ufl.edu/bird-sounds/mp3/FLMNH07309.mp3\n",
      "https://www.floridamuseum.ufl.edu/bird-sounds/mp3/FLMNH13619.mp3\n",
      "https://www.floridamuseum.ufl.edu/bird-sounds/mp3/FLMNH16139.mp3\n",
      "https://www.floridamuseum.ufl.edu/bird-sounds/mp3/FLMNH13668.mp3\n",
      "https://www.floridamuseum.ufl.edu/bird-sounds/mp3/FLMNH09313.mp3\n",
      "https://www.floridamuseum.ufl.edu/bird-sounds/mp3/FLMNH14897.mp3\n",
      "https://www.floridamuseum.ufl.edu/bird-sounds/mp3/FLMNH09605.mp3\n",
      "https://www.floridamuseum.ufl.edu/bird-sounds/mp3/FLMNH03866.mp3\n",
      "https://www.floridamuseum.ufl.edu/bird-sounds/mp3/FLMNH06428.mp3\n",
      "https://www.floridamuseum.ufl.edu/bird-sounds/mp3/FLMNH14370.mp3\n",
      "https://www.floridamuseum.ufl.edu/bird-sounds/mp3/FLMNH05781.mp3\n",
      "https://www.floridamuseum.ufl.edu/bird-sounds/mp3/FLMNH09307.mp3\n",
      "https://www.floridamuseum.ufl.edu/bird-sounds/mp3/FLMNH01360.mp3\n",
      "https://www.floridamuseum.ufl.edu/bird-sounds/mp3/FLMNH10049.mp3\n",
      "https://www.floridamuseum.ufl.edu/bird-sounds/mp3/FLMNH07004.mp3\n",
      "https://www.floridamuseum.ufl.edu/bird-sounds/mp3/FLMNH13899.mp3\n",
      "https://www.floridamuseum.ufl.edu/bird-sounds/mp3/FLMNH20250.mp3\n",
      "https://www.floridamuseum.ufl.edu/bird-sounds/mp3/FLMNH10499.mp3\n",
      "https://www.floridamuseum.ufl.edu/bird-sounds/mp3/FLMNH01617.mp3\n",
      "https://www.floridamuseum.ufl.edu/bird-sounds/mp3/FLMNH16312.mp3\n",
      "https://www.floridamuseum.ufl.edu/bird-sounds/mp3/FLMNH08949.mp3\n",
      "https://www.floridamuseum.ufl.edu/bird-sounds/mp3/FLMNH09648.mp3\n",
      "https://www.floridamuseum.ufl.edu/bird-sounds/mp3/FLMNH05377.mp3\n",
      "https://www.floridamuseum.ufl.edu/bird-sounds/mp3/FLMNH14037.mp3\n",
      "https://www.floridamuseum.ufl.edu/bird-sounds/mp3/FLMNH10061.mp3\n",
      "https://www.floridamuseum.ufl.edu/bird-sounds/mp3/FLMNH03275.mp3\n",
      "https://www.floridamuseum.ufl.edu/bird-sounds/mp3/FLMNH08934.mp3\n",
      "https://www.floridamuseum.ufl.edu/bird-sounds/mp3/FLMNH24371.mp3\n",
      "https://www.floridamuseum.ufl.edu/bird-sounds/mp3/FLMNH10051.mp3\n",
      "https://www.floridamuseum.ufl.edu/bird-sounds/mp3/FLMNH19217.mp3\n",
      "https://www.floridamuseum.ufl.edu/bird-sounds/mp3/FLMNH07384.mp3\n",
      "https://www.floridamuseum.ufl.edu/bird-sounds/mp3/FLMNH10055.mp3\n",
      "https://www.floridamuseum.ufl.edu/bird-sounds/mp3/FLMNH07321.mp3\n",
      "https://www.floridamuseum.ufl.edu/bird-sounds/mp3/FLMNH10087.mp3\n",
      "https://www.floridamuseum.ufl.edu/bird-sounds/mp3/FLMNH20976.mp3\n",
      "https://www.floridamuseum.ufl.edu/bird-sounds/mp3/FLMNH20799.mp3\n",
      "https://www.floridamuseum.ufl.edu/bird-sounds/mp3/FLMNH08070.mp3\n",
      "https://www.floridamuseum.ufl.edu/bird-sounds/mp3/FLMNH22739.mp3\n",
      "https://www.floridamuseum.ufl.edu/bird-sounds/mp3/FLMNH01363.mp3\n",
      "https://www.floridamuseum.ufl.edu/bird-sounds/mp3/FLMNH22253.mp3\n",
      "https://www.floridamuseum.ufl.edu/bird-sounds/mp3/FLMNH11368.mp3\n",
      "https://www.floridamuseum.ufl.edu/bird-sounds/mp3/FLMNH14944.mp3\n",
      "https://www.floridamuseum.ufl.edu/bird-sounds/mp3/FLMNH20949.mp3\n",
      "https://www.floridamuseum.ufl.edu/bird-sounds/mp3/FLMNH14367.mp3\n",
      "https://www.floridamuseum.ufl.edu/bird-sounds/mp3/FLMNH10079.mp3\n",
      "https://www.floridamuseum.ufl.edu/bird-sounds/mp3/FLMNH01425.mp3\n",
      "https://www.floridamuseum.ufl.edu/bird-sounds/mp3/FLMNH07581.mp3\n",
      "https://www.floridamuseum.ufl.edu/bird-sounds/mp3/FLMNH13517.mp3\n",
      "https://www.floridamuseum.ufl.edu/bird-sounds/mp3/FLMNH10077.mp3\n",
      "https://www.floridamuseum.ufl.edu/bird-sounds/mp3/FLMNH09628.mp3\n",
      "https://www.floridamuseum.ufl.edu/bird-sounds/mp3/FLMNH09624.mp3\n",
      "https://www.floridamuseum.ufl.edu/bird-sounds/mp3/FLMNH01915.mp3\n",
      "https://www.floridamuseum.ufl.edu/bird-sounds/mp3/FLMNH00148.mp3\n",
      "https://www.floridamuseum.ufl.edu/bird-sounds/mp3/FLMNH10047.mp3\n",
      "https://www.floridamuseum.ufl.edu/bird-sounds/mp3/FLMNH16111.mp3\n",
      "https://www.floridamuseum.ufl.edu/bird-sounds/mp3/FLMNH07580.mp3\n",
      "https://www.floridamuseum.ufl.edu/bird-sounds/mp3/FLMNH09257.mp3\n",
      "https://www.floridamuseum.ufl.edu/bird-sounds/mp3/FLMNH14375.mp3\n",
      "https://www.floridamuseum.ufl.edu/bird-sounds/mp3/FLMNH19786.mp3\n",
      "https://www.floridamuseum.ufl.edu/bird-sounds/mp3/FLMNH19285.mp3\n",
      "https://www.floridamuseum.ufl.edu/bird-sounds/mp3/FLMNH22442.mp3\n",
      "https://www.floridamuseum.ufl.edu/bird-sounds/mp3/FLMNH03983.mp3\n",
      "https://www.floridamuseum.ufl.edu/bird-sounds/mp3/FLMNH00766.mp3\n",
      "https://www.floridamuseum.ufl.edu/bird-sounds/mp3/FLMNH04871.mp3\n",
      "https://www.floridamuseum.ufl.edu/bird-sounds/mp3/FLMNH17275.mp3\n",
      "https://www.floridamuseum.ufl.edu/bird-sounds/mp3/FLMNH19009.mp3\n",
      "https://www.floridamuseum.ufl.edu/bird-sounds/mp3/FLMNH07316.mp3\n",
      "https://www.floridamuseum.ufl.edu/bird-sounds/mp3/FLMNH16229.mp3\n",
      "https://www.floridamuseum.ufl.edu/bird-sounds/mp3/FLMNH13913.mp3\n",
      "https://www.floridamuseum.ufl.edu/bird-sounds/mp3/FLMNH06623.mp3\n",
      "https://www.floridamuseum.ufl.edu/bird-sounds/mp3/FLMNH13935.mp3\n",
      "https://www.floridamuseum.ufl.edu/bird-sounds/mp3/FLMNH08972.mp3\n",
      "https://www.floridamuseum.ufl.edu/bird-sounds/mp3/FLMNH19784.mp3\n",
      "https://www.floridamuseum.ufl.edu/bird-sounds/mp3/FLMNH07307.mp3\n",
      "https://www.floridamuseum.ufl.edu/bird-sounds/mp3/FLMNH01359.mp3\n",
      "https://www.floridamuseum.ufl.edu/bird-sounds/mp3/FLMNH14019.mp3\n",
      "https://www.floridamuseum.ufl.edu/bird-sounds/mp3/FLMNH09256.mp3\n",
      "https://www.floridamuseum.ufl.edu/bird-sounds/mp3/FLMNH14022.mp3\n",
      "https://www.floridamuseum.ufl.edu/bird-sounds/mp3/FLMNH00994.mp3\n",
      "https://www.floridamuseum.ufl.edu/bird-sounds/mp3/FLMNH07178.mp3\n",
      "https://www.floridamuseum.ufl.edu/bird-sounds/mp3/FLMNH22433.mp3\n",
      "https://www.floridamuseum.ufl.edu/bird-sounds/mp3/FLMNH09483.mp3\n",
      "https://www.floridamuseum.ufl.edu/bird-sounds/mp3/FLMNH01158.mp3\n",
      "https://www.floridamuseum.ufl.edu/bird-sounds/mp3/FLMNH18771.mp3\n",
      "https://www.floridamuseum.ufl.edu/bird-sounds/mp3/FLMNH08945.mp3\n",
      "https://www.floridamuseum.ufl.edu/bird-sounds/mp3/FLMNH00111.mp3\n",
      "https://www.floridamuseum.ufl.edu/bird-sounds/mp3/FLMNH17518.mp3\n",
      "https://www.floridamuseum.ufl.edu/bird-sounds/mp3/FLMNH22894.mp3\n",
      "https://www.floridamuseum.ufl.edu/bird-sounds/mp3/FLMNH11437.mp3\n",
      "https://www.floridamuseum.ufl.edu/bird-sounds/mp3/FLMNH14372.mp3\n",
      "https://www.floridamuseum.ufl.edu/bird-sounds/mp3/FLMNH05221.mp3\n",
      "https://www.floridamuseum.ufl.edu/bird-sounds/mp3/FLMNH14018.mp3\n",
      "https://www.floridamuseum.ufl.edu/bird-sounds/mp3/FLMNH00960.mp3\n",
      "https://www.floridamuseum.ufl.edu/bird-sounds/mp3/FLMNH14385.mp3\n",
      "https://www.floridamuseum.ufl.edu/bird-sounds/mp3/FLMNH17272.mp3\n",
      "https://www.floridamuseum.ufl.edu/bird-sounds/mp3/FLMNH11448.mp3\n",
      "https://www.floridamuseum.ufl.edu/bird-sounds/mp3/FLMNH00146.mp3\n",
      "https://www.floridamuseum.ufl.edu/bird-sounds/mp3/FLMNH09656.mp3\n",
      "https://www.floridamuseum.ufl.edu/bird-sounds/mp3/FLMNH24372.mp3\n",
      "https://www.floridamuseum.ufl.edu/bird-sounds/mp3/FLMNH07319.mp3\n",
      "https://www.floridamuseum.ufl.edu/bird-sounds/mp3/FLMNH04809.mp3\n",
      "https://www.floridamuseum.ufl.edu/bird-sounds/mp3/FLMNH16093.mp3\n",
      "https://www.floridamuseum.ufl.edu/bird-sounds/mp3/FLMNH07023.mp3\n",
      "https://www.floridamuseum.ufl.edu/bird-sounds/mp3/FLMNH14379.mp3\n",
      "https://www.floridamuseum.ufl.edu/bird-sounds/mp3/FLMNH11424.mp3\n",
      "https://www.floridamuseum.ufl.edu/bird-sounds/mp3/FLMNH07308.mp3\n",
      "https://www.floridamuseum.ufl.edu/bird-sounds/mp3/FLMNH10064.mp3\n",
      "https://www.floridamuseum.ufl.edu/bird-sounds/mp3/FLMNH20313.mp3\n",
      "https://www.floridamuseum.ufl.edu/bird-sounds/mp3/FLMNH14775.mp3\n",
      "https://www.floridamuseum.ufl.edu/bird-sounds/mp3/FLMNH01188.mp3\n",
      "https://www.floridamuseum.ufl.edu/bird-sounds/mp3/FLMNH09494.mp3\n",
      "https://www.floridamuseum.ufl.edu/bird-sounds/mp3/FLMNH22028.mp3\n",
      "https://www.floridamuseum.ufl.edu/bird-sounds/mp3/FLMNH18770.mp3\n",
      "https://www.floridamuseum.ufl.edu/bird-sounds/mp3/FLMNH06567.mp3\n",
      "https://www.floridamuseum.ufl.edu/bird-sounds/mp3/FLMNH04810.mp3\n",
      "https://www.floridamuseum.ufl.edu/bird-sounds/mp3/FLMNH17269.mp3\n",
      "https://www.floridamuseum.ufl.edu/bird-sounds/mp3/FLMNH22673.mp3\n",
      "https://www.floridamuseum.ufl.edu/bird-sounds/mp3/FLMNH10083.mp3\n",
      "https://www.floridamuseum.ufl.edu/bird-sounds/mp3/FLMNH08915.mp3\n",
      "https://www.floridamuseum.ufl.edu/bird-sounds/mp3/FLMNH10071.mp3\n",
      "https://www.floridamuseum.ufl.edu/bird-sounds/mp3/FLMNH07387.mp3\n",
      "https://www.floridamuseum.ufl.edu/bird-sounds/mp3/FLMNH13915.mp3\n",
      "https://www.floridamuseum.ufl.edu/bird-sounds/mp3/FLMNH05896.mp3\n",
      "https://www.floridamuseum.ufl.edu/bird-sounds/mp3/FLMNH17646.mp3\n",
      "https://www.floridamuseum.ufl.edu/bird-sounds/mp3/FLMNH09320.mp3\n",
      "https://www.floridamuseum.ufl.edu/bird-sounds/mp3/FLMNH18635.mp3\n",
      "https://www.floridamuseum.ufl.edu/bird-sounds/mp3/FLMNH16235.mp3\n",
      "https://www.floridamuseum.ufl.edu/bird-sounds/mp3/FLMNH13734.mp3\n",
      "https://www.floridamuseum.ufl.edu/bird-sounds/mp3/FLMNH01428.mp3\n",
      "https://www.floridamuseum.ufl.edu/bird-sounds/mp3/FLMNH09474.mp3\n",
      "https://www.floridamuseum.ufl.edu/bird-sounds/mp3/FLMNH10334.mp3\n",
      "https://www.floridamuseum.ufl.edu/bird-sounds/mp3/FLMNH14773.mp3\n",
      "https://www.floridamuseum.ufl.edu/bird-sounds/mp3/FLMNH10065.mp3\n",
      "https://www.floridamuseum.ufl.edu/bird-sounds/mp3/FLMNH14033.mp3\n",
      "https://www.floridamuseum.ufl.edu/bird-sounds/mp3/FLMNH01174.mp3\n",
      "https://www.floridamuseum.ufl.edu/bird-sounds/mp3/FLMNH11508.mp3\n",
      "https://www.floridamuseum.ufl.edu/bird-sounds/mp3/FLMNH13916.mp3\n",
      "https://www.floridamuseum.ufl.edu/bird-sounds/mp3/FLMNH08067.mp3\n",
      "https://www.floridamuseum.ufl.edu/bird-sounds/mp3/FLMNH22380.mp3\n",
      "https://www.floridamuseum.ufl.edu/bird-sounds/mp3/FLMNH08927.mp3\n",
      "https://www.floridamuseum.ufl.edu/bird-sounds/mp3/FLMNH00172.mp3\n",
      "https://www.floridamuseum.ufl.edu/bird-sounds/mp3/FLMNH20884.mp3\n",
      "https://www.floridamuseum.ufl.edu/bird-sounds/mp3/FLMNH03968.mp3\n",
      "https://www.floridamuseum.ufl.edu/bird-sounds/mp3/FLMNH07318.mp3\n",
      "https://www.floridamuseum.ufl.edu/bird-sounds/mp3/FLMNH09647.mp3\n",
      "https://www.floridamuseum.ufl.edu/bird-sounds/mp3/FLMNH19562.mp3\n",
      "https://www.floridamuseum.ufl.edu/bird-sounds/mp3/FLMNH22707.mp3\n",
      "https://www.floridamuseum.ufl.edu/bird-sounds/mp3/FLMNH04802.mp3\n",
      "https://www.floridamuseum.ufl.edu/bird-sounds/mp3/FLMNH14818.mp3\n",
      "https://www.floridamuseum.ufl.edu/bird-sounds/mp3/FLMNH07052.mp3\n",
      "https://www.floridamuseum.ufl.edu/bird-sounds/mp3/FLMNH14035.mp3\n",
      "https://www.floridamuseum.ufl.edu/bird-sounds/mp3/FLMNH14777.mp3\n",
      "https://www.floridamuseum.ufl.edu/bird-sounds/mp3/FLMNH07425.mp3\n",
      "https://www.floridamuseum.ufl.edu/bird-sounds/mp3/FLMNH07386.mp3\n",
      "https://www.floridamuseum.ufl.edu/bird-sounds/mp3/FLMNH04051.mp3\n",
      "https://www.floridamuseum.ufl.edu/bird-sounds/mp3/FLMNH22113.mp3\n",
      "https://www.floridamuseum.ufl.edu/bird-sounds/mp3/FLMNH04872.mp3\n",
      "https://www.floridamuseum.ufl.edu/bird-sounds/mp3/FLMNH23064.mp3\n",
      "https://www.floridamuseum.ufl.edu/bird-sounds/mp3/FLMNH07378.mp3\n",
      "https://www.floridamuseum.ufl.edu/bird-sounds/mp3/FLMNH19561.mp3\n",
      "https://www.floridamuseum.ufl.edu/bird-sounds/mp3/FLMNH17262.mp3\n",
      "https://www.floridamuseum.ufl.edu/bird-sounds/mp3/FLMNH22127.mp3\n",
      "https://www.floridamuseum.ufl.edu/bird-sounds/mp3/FLMNH08065.mp3\n",
      "https://www.floridamuseum.ufl.edu/bird-sounds/mp3/FLMNH19105.mp3\n",
      "https://www.floridamuseum.ufl.edu/bird-sounds/mp3/FLMNH17292.mp3\n",
      "https://www.floridamuseum.ufl.edu/bird-sounds/mp3/FLMNH04751.mp3\n",
      "https://www.floridamuseum.ufl.edu/bird-sounds/mp3/FLMNH10463.mp3\n",
      "https://www.floridamuseum.ufl.edu/bird-sounds/mp3/FLMNH09306.mp3\n",
      "https://www.floridamuseum.ufl.edu/bird-sounds/mp3/FLMNH09110.mp3\n",
      "https://www.floridamuseum.ufl.edu/bird-sounds/mp3/FLMNH14365.mp3\n",
      "https://www.floridamuseum.ufl.edu/bird-sounds/mp3/FLMNH22738.mp3\n",
      "https://www.floridamuseum.ufl.edu/bird-sounds/mp3/FLMNH01362.mp3\n",
      "https://www.floridamuseum.ufl.edu/bird-sounds/mp3/FLMNH14012.mp3\n",
      "https://www.floridamuseum.ufl.edu/bird-sounds/mp3/FLMNH06637.mp3\n",
      "https://www.floridamuseum.ufl.edu/bird-sounds/mp3/FLMNH14015.mp3\n",
      "https://www.floridamuseum.ufl.edu/bird-sounds/mp3/FLMNH12397.mp3\n",
      "https://www.floridamuseum.ufl.edu/bird-sounds/mp3/FLMNH17259.mp3\n",
      "https://www.floridamuseum.ufl.edu/bird-sounds/mp3/FLMNH11440.mp3\n",
      "https://www.floridamuseum.ufl.edu/bird-sounds/mp3/FLMNH09324.mp3\n",
      "https://www.floridamuseum.ufl.edu/bird-sounds/mp3/FLMNH10062.mp3\n",
      "https://www.floridamuseum.ufl.edu/bird-sounds/mp3/FLMNH00939.mp3\n",
      "https://www.floridamuseum.ufl.edu/bird-sounds/mp3/FLMNH09621.mp3\n",
      "https://www.floridamuseum.ufl.edu/bird-sounds/mp3/FLMNH22736.mp3\n",
      "https://www.floridamuseum.ufl.edu/bird-sounds/mp3/FLMNH21246.mp3\n",
      "https://www.floridamuseum.ufl.edu/bird-sounds/mp3/FLMNH03255.mp3\n",
      "https://www.floridamuseum.ufl.edu/bird-sounds/mp3/FLMNH08943.mp3\n",
      "https://www.floridamuseum.ufl.edu/bird-sounds/mp3/FLMNH07314.mp3\n",
      "https://www.floridamuseum.ufl.edu/bird-sounds/mp3/FLMNH15285.mp3\n",
      "https://www.floridamuseum.ufl.edu/bird-sounds/mp3/FLMNH11500.mp3\n",
      "https://www.floridamuseum.ufl.edu/bird-sounds/mp3/FLMNH09636.mp3\n",
      "https://www.floridamuseum.ufl.edu/bird-sounds/mp3/FLMNH08951.mp3\n",
      "https://www.floridamuseum.ufl.edu/bird-sounds/mp3/FLMNH07317.mp3\n",
      "https://www.floridamuseum.ufl.edu/bird-sounds/mp3/FLMNH01618.mp3\n"
     ]
    }
   ],
   "source": [
    "get_regex_from_html(\"https.*.mp3\", 'CombinedBirdSoundsHTML')"
   ]
  },
  {
   "cell_type": "markdown",
   "metadata": {},
   "source": [
    "#### Scraping Boat Engines from http://www.nadaguides.com\n",
    "    # Queried duck duck go and supplied the following query `site:http://www.nadaguides.com/Boats \"Outboard-Motors\"` {It was non-trivial to setup a zero cost API call to Google/Bing that didn't wouldn't run out of balance during the middle of the project}\n",
    "    # Expanded the entire page and saved the html. \n",
    "    # Leveraged the utility function for cleanup and retrieval using a regex filter."
   ]
  },
  {
   "cell_type": "code",
   "execution_count": 4,
   "metadata": {},
   "outputs": [
    {
     "name": "stdout",
     "output_type": "stream",
     "text": [
      "http://www.nadaguides.com/Boats/2015/Mercury/Outboard-Motors\n",
      "http://www.nadaguides.com/Boats/1996/Tohatsu/Outboard-Motors\n",
      "http://www.nadaguides.com/Boats/1976/JOHNSON/Outboard-Motors\n",
      "http://www.nadaguides.com/Boats/2003/SUZUKI/Outboard-Motors\n",
      "http://www.nadaguides.com/Boats/2002/Mercury/Outboard-Motors\n",
      "http://www.nadaguides.com/Boats/2011/Evinrude/Outboard-Motors\n",
      "http://www.nadaguides.com/Boats/2008/SUZUKI/Outboard-Motors\n",
      "http://www.nadaguides.com/Boats/2015/Suzuki/Outboard-Motors\n",
      "http://www.nadaguides.com/Boats/2016/Evinrude/Outboard-Motors\n",
      "http://www.nadaguides.com/Boats/2012/Suzuki/Outboard-Motors\n",
      "http://www.nadaguides.com/Boats/1980/MERCURY/Outboard-Motors\n",
      "http://www.nadaguides.com/Boats/2001/Mercury/Outboard-Motors\n",
      "http://www.nadaguides.com/Boats/2001/TOHATSU/Outboard-Motors\n",
      "http://www.nadaguides.com/Boats/1984/MERCURY/Outboard-Motors\n",
      "http://www.nadaguides.com/Boats/2001/SUZUKI/Outboard-Motors\n",
      "http://www.nadaguides.com/Boats/2012/Tohatsu/Outboard-Motors\n",
      "http://www.nadaguides.com/Boats/2009/YAMAHA/Outboard-Motors\n",
      "http://www.nadaguides.com/Boats/2005/SUZUKI/Outboard-Motors\n",
      "http://www.nadaguides.com/Boats/1985/MARINER/Outboard-Motors\n",
      "http://www.nadaguides.com/Boats/2005/YAMAHA/Outboard-Motors\n",
      "http://www.nadaguides.com/Boats/0/Johnson/Outboard-Motors\n",
      "http://www.nadaguides.com/Boats/2011/TOHATSU/Outboard-Motors\n",
      "http://www.nadaguides.com/Boats/2002/YAMAHA/Outboard-Motors\n",
      "http://www.nadaguides.com/Boats/1985/Suzuki/DT115TCLF/Outboard-Motors\n",
      "http://www.nadaguides.com/Boats/2008/TOHATSU/Outboard-Motors\n",
      "http://www.nadaguides.com/Boats/1995/SUZUKI/Outboard-Motors\n",
      "http://www.nadaguides.com/Boats/1987/Tohatsu/Outboard-Motors\n",
      "http://www.nadaguides.com/Boats/1989/Tohatsu/Outboard-Motors\n",
      "http://www.nadaguides.com/Boats/2013/Suzuki/Outboard-Motors\n",
      "http://www.nadaguides.com/Boats/1997/EVINRUDE/Outboard-Motors\n",
      "http://www.nadaguides.com/Boats/1999/Tohatsu/Outboard-Motors\n",
      "http://www.nadaguides.com/Boats/2012/Evinrude/Outboard-Motors\n",
      "http://www.nadaguides.com/Boats/2017/Mud-Buddy/Outboard-Motors\n",
      "http://www.nadaguides.com/Boats/1993/YAMAHA/Outboard-Motors\n",
      "http://www.nadaguides.com/Boats/2010/Evinrude/Outboard-Motors\n",
      "http://www.nadaguides.com/Boats/1985/EVINRUDE/Outboard-Motors\n",
      "http://www.nadaguides.com/Boats/1984/EVINRUDE/Outboard-Motors\n",
      "http://www.nadaguides.com/Boats/1997/YAMAHA/Outboard-Motors\n",
      "http://www.nadaguides.com/Boats/1997/SEAGULL/Outboard-Motors\n",
      "http://www.nadaguides.com/Boats/1992/Tohatsu/Outboard-Motors\n",
      "http://www.nadaguides.com/Boats/1994/TOHATSU/Outboard-Motors\n",
      "http://www.nadaguides.com/Boats/2000/SUZUKI/Outboard-Motors\n",
      "http://www.nadaguides.com/Boats/1976/EVINRUDE/Outboard-Motors\n",
      "http://www.nadaguides.com/Boats/1982/MARINER/Outboard-Motors\n",
      "http://www.nadaguides.com/Boats/2010/TOHATSU/Outboard-Motors\n",
      "http://www.nadaguides.com/Boats/1996/Nissan/Outboard-Motors\n",
      "http://www.nadaguides.com/Boats/1983/MARINER/Outboard-Motors\n",
      "http://www.nadaguides.com/Boats/1995/EVINRUDE/Outboard-Motors\n",
      "http://www.nadaguides.com/Boats/1993/SUZUKI/Outboard-Motors\n",
      "http://www.nadaguides.com/Boats/1985/NISSAN/Outboard-Motors\n",
      "http://www.nadaguides.com/Boats/1994/HONDA/Outboard-Motors\n",
      "http://www.nadaguides.com/Boats/2005/MERCURY/Outboard-Motors\n",
      "http://www.nadaguides.com/Boats/2007/SUZUKI/Outboard-Motors\n",
      "http://www.nadaguides.com/Boats/2007/JOHNSON/Outboard-Motors\n",
      "http://www.nadaguides.com/Boats/2002/EVINRUDE/Outboard-Motors\n",
      "http://www.nadaguides.com/Boats/1990/SEARS/Outboard-Motors\n",
      "http://www.nadaguides.com/Boats/1988/Tohatsu/Outboard-Motors\n",
      "http://www.nadaguides.com/Boats/1987/AQUABUG/Outboard-Motors\n",
      "http://www.nadaguides.com/Boats/1991/YAMAHA/Outboard-Motors\n",
      "http://www.nadaguides.com/Boats/1993/Nissan/Outboard-Motors\n",
      "http://www.nadaguides.com/Boats/2000/YAMAHA/Outboard-Motors\n",
      "http://www.nadaguides.com/Boats/2011/SUZUKI/Outboard-Motors\n",
      "http://www.nadaguides.com/Boats/1990/MARINER/Outboard-Motors\n",
      "http://www.nadaguides.com/Boats/1979/EVINRUDE/Outboard-Motors\n",
      "http://www.nadaguides.com/Boats/1979/ESKA/Outboard-Motors\n",
      "http://www.nadaguides.com/Boats/1996/SUZUKI/Outboard-Motors\n",
      "http://www.nadaguides.com/Boats/1978/EVINRUDE/Outboard-Motors\n",
      "http://www.nadaguides.com/Boats/1988/EVINRUDE/Outboard-Motors\n",
      "http://www.nadaguides.com/Boats/1988/SUZUKI/Outboard-Motors\n",
      "http://www.nadaguides.com/Boats/2014/Evinrude/Outboard-Motors\n",
      "http://www.nadaguides.com/Boats/1997/Tohatsu/Outboard-Motors\n",
      "http://www.nadaguides.com/Boats/1980/CHRYSLER/Outboard-Motors\n",
      "http://www.nadaguides.com/Boats/2010/SUZUKI/Outboard-Motors\n",
      "http://www.nadaguides.com/Boats/1975/EVINRUDE/Outboard-Motors\n",
      "http://www.nadaguides.com/Boats/1996/YAMAHA/Outboard-Motors\n",
      "http://www.nadaguides.com/Boats/1990/SUZUKI/Outboard-Motors\n",
      "http://www.nadaguides.com/Boats/1995/YAMAHA/Outboard-Motors\n",
      "http://www.nadaguides.com/Boats/2001/TANAKA/Outboard-Motors\n",
      "http://www.nadaguides.com/Boats/2011/YAMAHA/Outboard-Motors\n",
      "http://www.nadaguides.com/Boats/1997/NISSAN/Outboard-Motors\n",
      "http://www.nadaguides.com/Boats/2013/Nissan/Outboard-Motors\n",
      "http://www.nadaguides.com/Boats/1985/SUZUKI/Outboard-Motors\n",
      "http://www.nadaguides.com/Boats/2002/TOHATSU/Outboard-Motors\n",
      "http://www.nadaguides.com/Boats/1974/EVINRUDE/Outboard-Motors\n",
      "http://www.nadaguides.com/Boats/1992/Nissan/Outboard-Motors\n",
      "http://www.nadaguides.com/Boats/2013/Tohatsu/Outboard-Motors\n",
      "http://www.nadaguides.com/Boats/2002/SUZUKI/Outboard-Motors\n",
      "http://www.nadaguides.com/Boats/2007/NISSAN/Outboard-Motors\n",
      "http://www.nadaguides.com/Boats/2016/Suzuki/Outboard-Motors\n",
      "http://www.nadaguides.com/Boats/2009/Evinrude/Outboard-Motors\n",
      "http://www.nadaguides.com/Boats/2009/SUZUKI/Outboard-Motors\n",
      "http://www.nadaguides.com/Boats/2008/YAMAHA/Outboard-Motors\n",
      "http://www.nadaguides.com/Boats/1985/FORCE/Outboard-Motors\n",
      "http://www.nadaguides.com/Boats/1977/Suzuki/Outboard-Motors\n",
      "http://www.nadaguides.com/Boats/1995/Nissan/Outboard-Motors\n",
      "http://www.nadaguides.com/Boats/2005/TOHATSU/Outboard-Motors\n",
      "http://www.nadaguides.com/Boats/1987/SUZUKI/Outboard-Motors\n",
      "http://www.nadaguides.com/Boats/1980/SUZUKI/Outboard-Motors\n",
      "http://www.nadaguides.com/Boats/1987/NISSAN/Outboard-Motors\n",
      "http://www.nadaguides.com/Boats/2010/NISSAN/Outboard-Motors\n",
      "http://www.nadaguides.com/Boats/1991/HONDA/Outboard-Motors\n",
      "http://www.nadaguides.com/Boats/1985/YAMAHA/Outboard-Motors\n",
      "http://www.nadaguides.com/Boats/2005/HONDA/Outboard-Motors\n",
      "http://www.nadaguides.com/Boats/2017/Evinrude/Outboard-Motors\n",
      "http://www.nadaguides.com/Boats/1990/JOHNSON/Outboard-Motors\n",
      "http://www.nadaguides.com/Boats/2006/TOHATSU/Outboard-Motors\n",
      "http://www.nadaguides.com/Boats/2002/HONDA/Outboard-Motors\n",
      "http://www.nadaguides.com/Boats/1976/MERCURY/Outboard-Motors\n",
      "http://www.nadaguides.com/Boats/1991/EVINRUDE/Outboard-Motors\n",
      "http://www.nadaguides.com/Boats/1987/ESKA/Outboard-Motors\n",
      "http://www.nadaguides.com/Boats/2010/YAMAHA/Outboard-Motors\n",
      "http://www.nadaguides.com/Boats/1984/CHRYSLER/Outboard-Motors\n",
      "http://www.nadaguides.com/Boats/1985/MERCURY/Outboard-Motors\n",
      "http://www.nadaguides.com/Boats/2009/MOTOR-GUIDE/Outboard-Motors\n",
      "http://www.nadaguides.com/Boats/1979/SUZUKI/Outboard-Motors\n",
      "http://www.nadaguides.com/Boats/1984/YAMAHA/Outboard-Motors\n",
      "http://www.nadaguides.com/Boats/1980/MARINER/Outboard-Motors\n",
      "http://www.nadaguides.com/Boats/1981/EVINRUDE/Outboard-Motors\n",
      "http://www.nadaguides.com/Boats/2004/MERCURY/Outboard-Motors\n",
      "http://www.nadaguides.com/Boats/1989/JOHNSON/Outboard-Motors\n",
      "http://www.nadaguides.com/Boats/1991/Nissan/Outboard-Motors\n",
      "http://www.nadaguides.com/Boats/1991/TOMOS/Outboard-Motors\n",
      "http://www.nadaguides.com/Boats/1999/FORCE/Outboard-Motors\n",
      "http://www.nadaguides.com/Boats/2006/MERCURY/Outboard-Motors\n",
      "http://www.nadaguides.com/Boats/2002/NISSAN/Outboard-Motors\n",
      "http://www.nadaguides.com/Boats/2014/Nissan/Outboard-Motors\n",
      "http://www.nadaguides.com/Boats/1981/MERCURY/Outboard-Motors\n",
      "http://www.nadaguides.com/Boats/2011/Go-Devil/Outboard-Motors\n",
      "http://www.nadaguides.com/Boats/2014/Go-Devil/Outboard-Motors\n",
      "http://www.nadaguides.com/Boats/1983/Honda/Outboard-Motors\n",
      "http://www.nadaguides.com/Boats/2003/EVINRUDE/Outboard-Motors\n",
      "http://www.nadaguides.com/Boats/1991/JOHNSON/Outboard-Motors\n",
      "http://www.nadaguides.com/Boats/1980/EVINRUDE/Outboard-Motors\n",
      "http://www.nadaguides.com/Boats/1991/SUZUKI/Outboard-Motors\n",
      "http://www.nadaguides.com/Boats/1987/MERCURY/Outboard-Motors\n",
      "http://www.nadaguides.com/Boats/1979/MARINER/Outboard-Motors\n",
      "http://www.nadaguides.com/Boats/1996/HONDA/Outboard-Motors\n",
      "http://www.nadaguides.com/Boats/1989/SUZUKI/Outboard-Motors\n",
      "http://www.nadaguides.com/Boats/2004/TOHATSU/Outboard-Motors\n",
      "http://www.nadaguides.com/Boats/1991/Tohatsu/Outboard-Motors\n",
      "http://www.nadaguides.com/Boats/2010/MERCURY/Outboard-Motors\n",
      "http://www.nadaguides.com/Boats/2009/Mercury/Outboard-Motors\n",
      "http://www.nadaguides.com/Boats/2004/YAMAHA/Outboard-Motors\n",
      "http://www.nadaguides.com/Boats/1990/EVINRUDE/Outboard-Motors\n",
      "http://www.nadaguides.com/Boats/2012/Nissan/Outboard-Motors\n",
      "http://www.nadaguides.com/Boats/2012/Yamaha/Outboard-Motors\n",
      "http://www.nadaguides.com/Boats/2017/Yamaha/Outboard-Motors\n",
      "http://www.nadaguides.com/Boats/1998/Tohatsu/Outboard-Motors\n",
      "http://www.nadaguides.com/Boats/1986/SUZUKI/Outboard-Motors\n",
      "http://www.nadaguides.com/Boats/2003/YAMAHA/Outboard-Motors\n",
      "http://www.nadaguides.com/Boats/1990/MERCURY/Outboard-Motors\n",
      "http://www.nadaguides.com/Boats/1997/MERCURY/Outboard-Motors\n",
      "http://www.nadaguides.com/Boats/2008/NISSAN/Outboard-Motors\n",
      "http://www.nadaguides.com/Boats/2001/YAMAHA/Outboard-Motors\n",
      "http://www.nadaguides.com/Boats/1997/SUZUKI/Outboard-Motors\n",
      "http://www.nadaguides.com/Boats/1986/YAMAHA/Outboard-Motors\n",
      "http://www.nadaguides.com/Boats/1986/Tohatsu/Outboard-Motors\n",
      "http://www.nadaguides.com/Boats/2001/HONDA/Outboard-Motors\n",
      "http://www.nadaguides.com/Boats/1974/JOHNSON/Outboard-Motors\n",
      "http://www.nadaguides.com/Boats/2000/EVINRUDE/Outboard-Motors\n",
      "http://www.nadaguides.com/Boats/1987/MIGHTY-MITE/Outboard-Motors\n",
      "http://www.nadaguides.com/Boats/1993/JOHNSON/Outboard-Motors\n",
      "http://www.nadaguides.com/Boats/2014/Mercury/Outboard-Motors\n",
      "http://www.nadaguides.com/Boats/2013/Mercury/Outboard-Motors\n",
      "http://www.nadaguides.com/Boats/2011/MERCURY/Outboard-Motors\n"
     ]
    }
   ],
   "source": [
    "get_regex_from_html(\"href=\\\"http://www.nadaguides.com/Boats/\\d+/.*?\\\"\", 'OutboardMotorsHTML', 6, -1)"
   ]
  },
  {
   "cell_type": "markdown",
   "metadata": {},
   "source": [
    "### Details for Coast Guard Vehicles at the below link\n",
    "### http://www.overview.uscg.mil/Portals/6/Documents/PDF/CG_Cutters-Boats-Aircraft_2015-2016_edition.pdf"
   ]
  },
  {
   "cell_type": "code",
   "execution_count": 11,
   "metadata": {},
   "outputs": [
    {
     "data": {
      "text/html": [
       "<iframe src=http://www.overview.uscg.mil/Portals/6/Documents/PDF/CG_Cutters-Boats-Aircraft_2015-2016_edition.pdf width=300 height=250></iframe>"
      ],
      "text/latex": [
       "\\includegraphics[width=1.0\\textwidth]{http://www.overview.uscg.mil/Portals/6/Documents/PDF/CG_Cutters-Boats-Aircraft_2015-2016_edition.pdf}"
      ],
      "text/plain": [
       "<__main__.PDF at 0x7fe11b687210>"
      ]
     },
     "execution_count": 11,
     "metadata": {},
     "output_type": "execute_result"
    }
   ],
   "source": [
    "class PDF(object):\n",
    "    def __init__(self, pdf, size=(200,200)):\n",
    "        self.pdf = pdf\n",
    "        self.size = size\n",
    "\n",
    "    def _repr_html_(self):\n",
    "        return '<iframe src={0} width={1[0]} height={1[1]}></iframe>'.format(self.pdf, self.size)\n",
    "\n",
    "    def _repr_latex_(self):\n",
    "        return r'\\includegraphics[width=1.0\\textwidth]{{{0}}}'.format(self.pdf)\n",
    "\n",
    "PDF('http://www.overview.uscg.mil/Portals/6/Documents/PDF/CG_Cutters-Boats-Aircraft_2015-2016_edition.pdf', size=(300, 250))"
   ]
  },
  {
   "cell_type": "code",
   "execution_count": null,
   "metadata": {
    "collapsed": true
   },
   "outputs": [],
   "source": [
    "from tensorflow.contrib.signal import hann_window, stft\n",
    "# Frame len guessed\n",
    "# frame_step assumed to be hop size\n",
    "spectrum = stft(signal = s`, fft_size = 2048, frame_len = 256, frame_step = 256, pad_end=False, window_fn=functools.partial(window_ops.hann_window, periodic=True))"
   ]
  },
  {
   "cell_type": "markdown",
   "metadata": {},
   "source": [
    "### Possible Dataset for marine bird sounds\n",
    "https://catalog.data.gov/dataset/nodc-standard-format-marine-birds-from-coastal-alaska-and-puget-sound-data-1974-1982-feeding-fl/resource/181532e5-2456-4a5a-a596-ff8d1f1134cc"
   ]
  },
  {
   "cell_type": "markdown",
   "metadata": {},
   "source": [
    "## Tensorflow to read MP3 audio and create spectrogram(<i>Unsuccessful </i>)"
   ]
  },
  {
   "cell_type": "code",
   "execution_count": 24,
   "metadata": {},
   "outputs": [
    {
     "name": "stdout",
     "output_type": "stream",
     "text": [
      "(8188841, 1)\n",
      "[[ 0.]\n",
      " [ 0.]\n",
      " [ 0.]\n",
      " [ 0.]]\n",
      "[ 0.          0.00390625  0.0078125   0.01171875  0.015625    0.01953125\n",
      "  0.0234375   0.02734375  0.03125     0.03515625  0.0390625   0.04296875\n",
      "  0.046875    0.05078125  0.0546875   0.05859375  0.0625      0.06640625\n",
      "  0.0703125   0.07421875  0.078125    0.08203125  0.0859375   0.08984375\n",
      "  0.09375     0.09765625  0.1015625   0.10546875  0.109375    0.11328125\n",
      "  0.1171875   0.12109375  0.125       0.12890625  0.1328125   0.13671875\n",
      "  0.140625    0.14453125  0.1484375   0.15234375  0.15625     0.16015625\n",
      "  0.1640625   0.16796875  0.171875    0.17578125  0.1796875   0.18359375\n",
      "  0.1875      0.19140625  0.1953125   0.19921875  0.203125    0.20703125\n",
      "  0.2109375   0.21484375  0.21875     0.22265625  0.2265625   0.23046875\n",
      "  0.234375    0.23828125  0.2421875   0.24609375  0.25        0.25390625\n",
      "  0.2578125   0.26171875  0.265625    0.26953125  0.2734375   0.27734375\n",
      "  0.28125     0.28515625  0.2890625   0.29296875  0.296875    0.30078125\n",
      "  0.3046875   0.30859375  0.3125      0.31640625  0.3203125   0.32421875\n",
      "  0.328125    0.33203125  0.3359375   0.33984375  0.34375     0.34765625\n",
      "  0.3515625   0.35546875  0.359375    0.36328125  0.3671875   0.37109375\n",
      "  0.375       0.37890625  0.3828125   0.38671875  0.390625    0.39453125\n",
      "  0.3984375   0.40234375  0.40625     0.41015625  0.4140625   0.41796875\n",
      "  0.421875    0.42578125  0.4296875   0.43359375  0.4375      0.44140625\n",
      "  0.4453125   0.44921875  0.453125    0.45703125  0.4609375   0.46484375\n",
      "  0.46875     0.47265625  0.4765625   0.48046875  0.484375    0.48828125\n",
      "  0.4921875   0.49609375  0.5       ] [ 128.  352.] [[ 0.  0.]\n",
      " [ 0.  0.]\n",
      " [ 0.  0.]\n",
      " [ 0.  0.]\n",
      " [ 0.  0.]\n",
      " [ 0.  0.]\n",
      " [ 0.  0.]\n",
      " [ 0.  0.]\n",
      " [ 0.  0.]\n",
      " [ 0.  0.]\n",
      " [ 0.  0.]\n",
      " [ 0.  0.]\n",
      " [ 0.  0.]\n",
      " [ 0.  0.]\n",
      " [ 0.  0.]\n",
      " [ 0.  0.]\n",
      " [ 0.  0.]\n",
      " [ 0.  0.]\n",
      " [ 0.  0.]\n",
      " [ 0.  0.]\n",
      " [ 0.  0.]\n",
      " [ 0.  0.]\n",
      " [ 0.  0.]\n",
      " [ 0.  0.]\n",
      " [ 0.  0.]\n",
      " [ 0.  0.]\n",
      " [ 0.  0.]\n",
      " [ 0.  0.]\n",
      " [ 0.  0.]\n",
      " [ 0.  0.]\n",
      " [ 0.  0.]\n",
      " [ 0.  0.]\n",
      " [ 0.  0.]\n",
      " [ 0.  0.]\n",
      " [ 0.  0.]\n",
      " [ 0.  0.]\n",
      " [ 0.  0.]\n",
      " [ 0.  0.]\n",
      " [ 0.  0.]\n",
      " [ 0.  0.]\n",
      " [ 0.  0.]\n",
      " [ 0.  0.]\n",
      " [ 0.  0.]\n",
      " [ 0.  0.]\n",
      " [ 0.  0.]\n",
      " [ 0.  0.]\n",
      " [ 0.  0.]\n",
      " [ 0.  0.]\n",
      " [ 0.  0.]\n",
      " [ 0.  0.]\n",
      " [ 0.  0.]\n",
      " [ 0.  0.]\n",
      " [ 0.  0.]\n",
      " [ 0.  0.]\n",
      " [ 0.  0.]\n",
      " [ 0.  0.]\n",
      " [ 0.  0.]\n",
      " [ 0.  0.]\n",
      " [ 0.  0.]\n",
      " [ 0.  0.]\n",
      " [ 0.  0.]\n",
      " [ 0.  0.]\n",
      " [ 0.  0.]\n",
      " [ 0.  0.]\n",
      " [ 0.  0.]\n",
      " [ 0.  0.]\n",
      " [ 0.  0.]\n",
      " [ 0.  0.]\n",
      " [ 0.  0.]\n",
      " [ 0.  0.]\n",
      " [ 0.  0.]\n",
      " [ 0.  0.]\n",
      " [ 0.  0.]\n",
      " [ 0.  0.]\n",
      " [ 0.  0.]\n",
      " [ 0.  0.]\n",
      " [ 0.  0.]\n",
      " [ 0.  0.]\n",
      " [ 0.  0.]\n",
      " [ 0.  0.]\n",
      " [ 0.  0.]\n",
      " [ 0.  0.]\n",
      " [ 0.  0.]\n",
      " [ 0.  0.]\n",
      " [ 0.  0.]\n",
      " [ 0.  0.]\n",
      " [ 0.  0.]\n",
      " [ 0.  0.]\n",
      " [ 0.  0.]\n",
      " [ 0.  0.]\n",
      " [ 0.  0.]\n",
      " [ 0.  0.]\n",
      " [ 0.  0.]\n",
      " [ 0.  0.]\n",
      " [ 0.  0.]\n",
      " [ 0.  0.]\n",
      " [ 0.  0.]\n",
      " [ 0.  0.]\n",
      " [ 0.  0.]\n",
      " [ 0.  0.]\n",
      " [ 0.  0.]\n",
      " [ 0.  0.]\n",
      " [ 0.  0.]\n",
      " [ 0.  0.]\n",
      " [ 0.  0.]\n",
      " [ 0.  0.]\n",
      " [ 0.  0.]\n",
      " [ 0.  0.]\n",
      " [ 0.  0.]\n",
      " [ 0.  0.]\n",
      " [ 0.  0.]\n",
      " [ 0.  0.]\n",
      " [ 0.  0.]\n",
      " [ 0.  0.]\n",
      " [ 0.  0.]\n",
      " [ 0.  0.]\n",
      " [ 0.  0.]\n",
      " [ 0.  0.]\n",
      " [ 0.  0.]\n",
      " [ 0.  0.]\n",
      " [ 0.  0.]\n",
      " [ 0.  0.]\n",
      " [ 0.  0.]\n",
      " [ 0.  0.]\n",
      " [ 0.  0.]\n",
      " [ 0.  0.]\n",
      " [ 0.  0.]\n",
      " [ 0.  0.]\n",
      " [ 0.  0.]]\n"
     ]
    },
    {
     "data": {
      "image/png": "[encoded data removed]",
      "text/plain": [
       "<matplotlib.figure.Figure at 0x7f73b9eaf4a8>"
      ]
     },
     "metadata": {},
     "output_type": "display_data"
    }
   ],
   "source": [
    "# !echo 'mlsp@2017' | sudo -S apt-get install ffmpeg\n",
    "\n",
    "\n",
    "\n",
    "# import librosa\n",
    "# import os\n",
    "# src, sr = librosa.load(os.getcwd()+'/FLMNH09473.mp3', sr=SR, duration=8.0)  # whole signal    \n",
    "# src = src[:duration*SR]\n",
    "\n",
    "import tensorflow as tf\n",
    "import os\n",
    "\n",
    "sample_rate = 16000.0\n",
    "# A Tensor of [batch_size, num_samples] mono PCM samples in the range [-1, 1].\n",
    "pcm = tf.placeholder(tf.float32, [None, None])\n",
    "\n",
    "# A 1024-point STFT with frames of 64 ms and 75% overlap.\n",
    "stfts = tf.contrib.signal.stft(pcm, frame_length=1024, frame_step=256,\n",
    "                               fft_length=1024)\n",
    "\n",
    "with tf.Session() as sess:\n",
    "    audio_binary = tf.read_file(os.getcwd()+'/FLMNH09473.mp3')\n",
    "    waveform = tf.contrib.ffmpeg.decode_audio(audio_binary, file_format='mp3', samples_per_second=44100, channel_count=1)\n",
    "    print(waveform.eval().shape)\n",
    "    print(waveform.eval()[1:5])\n",
    "    f, t, Sxx = signal.spectrogram(x=waveform.eval()[1:500].flatten())\n",
    "    print(f, t, Sxx)\n",
    "    plt.pcolormesh(t, f, Sxx)\n",
    "    plt.ylabel('Frequency [Hz]')\n",
    "    plt.xlabel('Time [sec]')\n",
    "    plt.show()\n",
    "    # sess.run(stfts, feed_dict={pcm: waveform.eval()})"
   ]
  },
  {
   "cell_type": "markdown",
   "metadata": {
    "collapsed": true
   },
   "source": [
    "## Audio Capture and spectrogram representation using Librosa"
   ]
  },
  {
   "cell_type": "code",
   "execution_count": 13,
   "metadata": {},
   "outputs": [
    {
     "data": {
      "image/png": "[encoded data removed]",
      "text/plain": [
       "<matplotlib.figure.Figure at 0x7f677430f048>"
      ]
     },
     "metadata": {},
     "output_type": "display_data"
    }
   ],
   "source": [
    "%matplotlib inline\n",
    "import matplotlib.pyplot as plt\n",
    "import librosa\n",
    "import librosa.display\n",
    "import numpy as np\n",
    "y, sr = librosa.load(\"Cessna 172 - Engine Change Start Up.wav\")\n",
    "plt.figure(figsize=(12, 8))\n",
    "D = librosa.amplitude_to_db(librosa.stft(y), ref=np.max)\n",
    "plt.subplot(4, 2, 1)\n",
    "librosa.display.specshow(D, y_axis='linear')\n",
    "plt.colorbar(format='%+2.0f dB')\n",
    "plt.title('Linear-frequency power spectrogram')\n",
    "plt.show()"
   ]
  },
  {
   "cell_type": "markdown",
   "metadata": {},
   "source": [
    "## Commented code for scaling linear frequencies into mel scale"
   ]
  },
  {
   "cell_type": "code",
   "execution_count": null,
   "metadata": {
    "collapsed": true
   },
   "outputs": [],
   "source": [
    "\n",
    "# spectrograms = tf.abs(stft)\n",
    "\n",
    "# # Warp the linear scale spectrograms into the mel-scale.\n",
    "# num_spectrogram_bins = stfts.shape[-1].value\n",
    "# lower_edge_hertz, upper_edge_hertz, num_mel_bins = 80.0, 7600.0, 80\n",
    "# linear_to_mel_weight_matrix = tf.contrib.signal.linear_to_mel_weight_matrix(\n",
    "#   num_mel_bins, num_spectrogram_bins, sample_rate, lower_edge_hertz,\n",
    "#   upper_edge_hertz)\n",
    "# mel_spectrograms = tf.tensordot(\n",
    "#   spectrograms, linear_to_mel_weight_matrix, 1)\n",
    "# mel_spectrograms.set_shape(spectrograms.shape[:-1].concatenate(\n",
    "#   linear_to_mel_weight_matrix.shape[-1:]))\n",
    "\n",
    "# # Compute a stabilized log to get log-magnitude mel-scale spectrograms.\n",
    "# log_mel_spectrograms = tf.log(mel_spectrograms + 1e-6)\n",
    "\n",
    "# # Compute MFCCs from log_mel_spectrograms and take the first 13.\n",
    "# mfccs = tf.contrib.signal.mfccs_from_log_mel_spectrograms(\n",
    "#   log_mel_spectrograms)[..., :13]"
   ]
  },
  {
   "cell_type": "markdown",
   "metadata": {},
   "source": [
    "## Gaussian Mixture Model Implementation in scikit-learn "
   ]
  },
  {
   "cell_type": "code",
   "execution_count": 6,
   "metadata": {},
   "outputs": [
    {
     "name": "stdout",
     "output_type": "stream",
     "text": [
      "2384\n"
     ]
    }
   ],
   "source": [
    "import random\n",
    "import numpy as np\n",
    "from sklearn.mixture import GaussianMixture as GMM\n",
    "\n",
    "x = np.array([[random.random() for i in range(198)] for j in range(2384)])\n",
    "gmm = GMM(n_components=200)\n",
    "gmm.fit(x)\n",
    "\n",
    "Y = gmm.predict(x)\n",
    "\n",
    "print(len(Y))\n",
    "# print '|'.join(map(str, Y))"
   ]
  },
  {
   "cell_type": "markdown",
   "metadata": {},
   "source": [
    "## Gaussian Mixture Model implementation in Tensorflow(<i>Runs Out Of Memory</i>)"
   ]
  },
  {
   "cell_type": "code",
   "execution_count": null,
   "metadata": {},
   "outputs": [
    {
     "name": "stdout",
     "output_type": "stream",
     "text": [
      "INFO:tensorflow:Using default config.\n",
      "WARNING:tensorflow:Using temporary folder as model directory: /tmp/tmpndupoygj\n",
      "INFO:tensorflow:Using config: {'_master': '', '_model_dir': '/tmp/tmpndupoygj', '_task_id': 0, '_cluster_spec': <tensorflow.python.training.server_lib.ClusterSpec object at 0x7f239958deb8>, '_save_checkpoints_steps': None, '_save_summary_steps': 100, '_num_ps_replicas': 0, '_num_worker_replicas': 0, '_is_chief': True, '_keep_checkpoint_every_n_hours': 10000, '_environment': 'local', '_keep_checkpoint_max': 5, '_save_checkpoints_secs': 600, '_tf_random_seed': None, '_log_step_count_steps': 100, '_task_type': None, '_tf_config': gpu_options {\n",
      "  per_process_gpu_memory_fraction: 1.0\n",
      "}\n",
      ", '_evaluation_master': '', '_session_config': None}\n",
      "INFO:tensorflow:Create CheckpointSaverHook.\n",
      "INFO:tensorflow:Saving checkpoints for 1 into /tmp/tmpndupoygj/model.ckpt.\n",
      "INFO:tensorflow:step = 1, loss = 38553.6\n"
     ]
    }
   ],
   "source": [
    "from tensorflow.contrib.factorization.python.ops import gmm as gmm_lib\n",
    "from tensorflow.python.framework import constant_op\n",
    "import random\n",
    "import numpy as np\n",
    "\n",
    "\n",
    "def input_fn(x):\n",
    "    \"\"\"Returns an input_fn that randomly selects batches from given points.\"\"\"\n",
    "    def _fn():\n",
    "        return constant_op.constant(x.astype('float32')), None\n",
    "    return _fn\n",
    "\n",
    "x = np.array([[random.random() for i in range(198)] for j in range(2384)], dtype=np.float32)\n",
    "gmm = gmm_lib.GMM(200, random_seed=0)\n",
    "gmm.fit(input_fn=input_fn(x), max_steps=300)\n",
    "\n",
    "y = gmm.predict_assignments(input_fn=input_fn(x))\n",
    "print(len(y))"
   ]
  },
  {
   "cell_type": "markdown",
   "metadata": {
    "collapsed": true
   },
   "source": [
    "## Pyspark Streaming implementation of GMMs"
   ]
  },
  {
   "cell_type": "code",
   "execution_count": 21,
   "metadata": {},
   "outputs": [
    {
     "name": "stdout",
     "output_type": "stream",
     "text": [
      "[1, 1, 1, 1, 1, 1, 1, 1, 1, 1, 1, 1, 1, 1, 1, 1, 1, 1, 1, 1, 1, 1, 1, 1, 1, 1, 1, 1, 1, 1, 1, 1, 1, 1, 1, 1, 1, 1, 1, 1, 1, 1, 1, 1, 1, 1, 1, 1, 1, 1, 1, 1, 1, 1, 1, 1, 1, 1, 1, 1, 1, 1, 1, 1, 1, 1, 1, 1, 1, 1, 1, 1, 1, 1, 1, 1, 1, 1, 1, 1, 1, 1, 1, 1, 1, 1, 1, 1, 1, 1, 1, 1, 1, 1, 1, 1, 1, 1, 1, 1, 1, 1, 1, 1, 1, 1, 1, 1, 1, 1, 1, 1, 1, 1, 1, 1, 1, 1, 1, 1, 1, 1, 1, 1, 1, 1, 1, 1, 1, 1, 1, 1, 1, 1, 1, 1, 1, 1, 1, 1, 1, 1, 1, 1, 1, 1, 1, 1, 1, 1, 1, 1, 1, 1, 1, 1, 1, 1, 1, 1, 1, 1, 1, 1, 1, 1, 1, 1, 1, 1, 1, 1, 1, 1, 1, 1, 1, 1, 1, 1, 1, 1, 1, 1, 1, 1, 1, 1, 1, 1, 1, 1, 1, 1, 1, 1, 1, 1, 1, 1, 1, 1, 1, 1, 1, 1, 1, 1, 1, 1, 1, 1, 1, 1, 1, 1, 1, 1, 1, 1, 1, 1, 1, 1, 1, 1, 1, 1, 1, 1, 1, 1, 1, 1, 1, 1, 1, 1, 1, 1, 1, 1, 1, 1, 1, 1, 1, 1, 1, 1, 1, 1, 1, 1, 1, 1, 1, 1, 1, 1, 1, 1, 1, 1, 1, 1, 1, 1, 1, 1, 1, 1, 1, 1, 1, 1, 1, 1, 1, 1, 1, 1, 1, 1, 1, 1, 1, 1, 1, 1, 1, 1, 1, 1, 1, 1, 1, 1, 1, 1, 0, 0, 0, 0, 0, 0, 0, 0, 0, 0, 0, 0, 0, 0, 0, 0, 0, 0, 0, 0, 0, 0, 0, 0, 0, 0, 0, 0, 0, 0, 0, 0, 0, 0, 0, 0, 0, 0, 0, 0, 0, 0, 0, 0, 0, 0, 0, 0, 0, 0, 0, 0, 0, 0, 0, 0, 0, 0, 0, 0, 0, 0, 0, 0, 0, 0, 0, 0, 0, 0, 0, 0, 0, 0, 0, 0, 0, 0, 0, 0, 0, 0, 0, 0, 0, 0, 0, 0, 0, 0, 0, 0, 0, 0, 0, 0, 0, 0, 0, 0, 0, 0, 0, 0, 0, 0, 0, 0, 0, 0, 0, 0, 0, 0, 0, 0, 0, 0, 0, 0, 0, 0, 0, 0, 0, 0, 0, 0, 0, 0, 0, 0, 0, 0, 0, 0, 0, 0, 0, 0, 0, 0, 0, 0, 0, 0, 0, 0, 0, 0, 0, 0, 0, 0, 0, 0, 0, 0, 0, 0, 0, 0, 0, 0, 0, 0, 0, 0, 0, 0, 0, 0, 0, 0, 0, 0, 0, 0, 0, 0, 0, 0, 0, 0, 0, 0, 0, 0, 0, 0, 0, 0, 0, 0, 0, 0, 0, 0, 0, 0, 0, 0, 0, 0, 0, 0, 0, 0, 0, 0, 0, 0, 0, 0, 0, 0, 0, 0, 0, 0, 0, 0, 0, 0, 0, 0, 0, 0, 0, 0, 0, 0, 0, 0, 0, 0, 0, 0, 0, 0, 0, 0, 0, 0, 0, 0, 0, 0, 0, 0, 0, 0, 0, 0, 0, 0, 0, 0, 0, 0, 0, 0, 0, 0, 0, 0, 0, 0, 0, 0, 0, 0, 0, 0, 0, 0, 0, 0, 0, 0, 0, 0, 0, 0, 0, 0, 0, 0, 0, 0, 0, 0, 0, 0, 0, 0, 0, 0, 0, 0]\n"
     ]
    }
   ],
   "source": [
    "import numpy as np\n",
    "\n",
    "from pyspark.ml import Pipeline\n",
    "from pyspark.ml.clustering import GaussianMixture\n",
    "from pyspark.ml.feature import VectorAssembler\n",
    "from pyspark.sql import SparkSession\n",
    "\n",
    "spark = SparkSession.builder.getOrCreate()\n",
    "\n",
    "def create_fake_data_for_test():\n",
    "    n_samples = 300\n",
    "    np.random.seed(0)\n",
    "\n",
    "    shifted_gaussian = np.random.randn(n_samples, 2) + np.array([20, 20])\n",
    "    \n",
    "    C = np.array([[0., -0.7], [3.5, .7]])\n",
    "    stretched_gaussian = np.dot(np.random.randn(n_samples, 2), C)\n",
    "    \n",
    "    return np.vstack([shifted_gaussian, stretched_gaussian])\n",
    "\n",
    "X_train = create_fake_data_for_test()\n",
    "dataset = spark.createDataFrame(X_train.tolist(), [\"x1\", \"x2\"])\n",
    "\n",
    "vecAss = VectorAssembler(inputCols=[\"x1\", \"x2\"], outputCol=\"features\")\n",
    "gm = GaussianMixture().setK(2)\n",
    "pipeline = Pipeline(stages=[vecAss, gm])\n",
    "\n",
    "model = pipeline.fit(dataset)\n",
    "\n",
    "\n",
    "predictions = model.transform(dataset).select(\"prediction\").rdd.map(lambda x: x[0]).collect()\n",
    "print(predictions)"
   ]
  },
  {
   "cell_type": "code",
   "execution_count": 15,
   "metadata": {},
   "outputs": [
    {
     "name": "stdout",
     "output_type": "stream",
     "text": [
      "Fetching package metadata .............\n",
      "Solving package specifications: .\n",
      "\n",
      "Package plan for installation in environment /home/nbcommon/anaconda3_410:\n",
      "\n",
      "The following NEW packages will be INSTALLED:\n",
      "\n",
      "    py4j:    0.10.6-py35_1 conda-forge\n",
      "    pyspark: 2.2.0-py35_0  conda-forge\n",
      "\n",
      "py4j-0.10.6-py 100% |################################| Time: 0:00:00   1.16 MB/s\n",
      "pyspark-2.2.0- 100% |################################| Time: 0:00:05  32.15 MB/s\n"
     ]
    }
   ],
   "source": [
    "!conda install -yc conda-forge pyspark"
   ]
  }
 ],
 "metadata": {
  "kernelspec": {
   "display_name": "Python 3",
   "language": "python",
   "name": "python3"
  },
  "language_info": {
   "codemirror_mode": {
    "name": "ipython",
    "version": 3
   },
   "file_extension": ".py",
   "mimetype": "text/x-python",
   "name": "python",
   "nbconvert_exporter": "python",
   "pygments_lexer": "ipython3",
   "version": "3.5.1"
  }
 },
 "nbformat": 4,
 "nbformat_minor": 2
}
