{
 "cells": [
  {
   "cell_type": "markdown",
   "metadata": {},
   "source": [
    "# Commercial Aircraft"
   ]
  },
  {
   "cell_type": "markdown",
   "metadata": {},
   "source": [
    "For this project, we are grouping both commercial and private aircraft into the commercial aircraft group.\n",
    "\n",
    "### Vehicle Specifications\n",
    "General vehicle specifications \n",
    "* Wikipedia: https://en.wikipedia.org/wiki/List_of_most-produced_aircraft\n",
    "* Aviation Fanatic: http://www.aviationfanatic.com/ent_list.php?ent=4\n",
    "  * Contains all aircraft currently registered with International Civil Aviation Organization (ICAO), a United Nations group\n",
    "  * Also includes some historical aircraft\n",
    "  * Grouped by type, use, manufacturer, size, engine type\n",
    "\n",
    "### Audio\n",
    "Youtube\n",
    "* Many examples of common aircraft\n",
    "* Often posted by enthusiasts, so they are organized by specific jargon and specifications (makes searching more complex)\n",
    "* Have a script written for scraping audio from search queries\n",
    "  * Have a tie-in with the Aviation Fanatic database\n",
    "\n",
    "Freesound Project\n",
    "* Airplanes: https://freesound.org/search/?q=airplane"
   ]
  },
  {
   "cell_type": "markdown",
   "metadata": {},
   "source": [
    "# Weather"
   ]
  },
  {
   "cell_type": "markdown",
   "metadata": {},
   "source": [
    "Rain, thunder, wind, and air temperature can all leave audio signatures.\n",
    "\n",
    "### NWS Marine Forecasts\n",
    "* http://www.nws.noaa.gov/om/marine/home.htm\n",
    "\n",
    "### Effect of Air Temperature on Speed of Sound\n",
    "* http://hyperphysics.phy-astr.gsu.edu/hbase/Sound/souspe.html\n",
    "\n",
    "### Audio\n",
    "* https://freesound.org/search/?q=waves\n",
    "* https://freesound.org/search/?q=rain\n",
    "* https://freesound.org/search/?q=thunder"
   ]
  },
  {
   "cell_type": "code",
   "execution_count": null,
   "metadata": {
    "collapsed": true
   },
   "outputs": [],
   "source": []
  }
 ],
 "metadata": {
  "anaconda-cloud": {},
  "kernelspec": {
   "display_name": "Python [default]",
   "language": "python",
   "name": "python3"
  },
  "language_info": {
   "codemirror_mode": {
    "name": "ipython",
    "version": 3
   },
   "file_extension": ".py",
   "mimetype": "text/x-python",
   "name": "python",
   "nbconvert_exporter": "python",
   "pygments_lexer": "ipython3",
   "version": "3.5.2"
  }
 },
 "nbformat": 4,
 "nbformat_minor": 1
}
