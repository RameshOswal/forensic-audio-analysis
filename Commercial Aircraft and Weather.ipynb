{
 "cells": [
  {
   "cell_type": "markdown",
   "metadata": {},
   "source": [
    "# Commercial Aircraft"
   ]
  },
  {
   "cell_type": "markdown",
   "metadata": {},
   "source": [
    "## Background Info\n",
    "Commercial aircraft include a wide variety of vehicles\n",
    "\n",
    "### Vehicle Specifications:\n",
    "* https://en.wikipedia.org/wiki/List_of_most-produced_aircraft\n",
    "* http://www.aviationfanatic.com/ent_list.php?ent=4\n",
    "\n",
    "### Data Sources\n",
    "Youtube\n",
    "* Jet Engines: https://www.youtube.com/watch?v=VGhEYUfk9zw\n",
    "\n",
    "Freesound Project\n",
    "* Airplanes: https://freesound.org/search/?q=airplane"
   ]
  },
  {
   "cell_type": "markdown",
   "metadata": {},
   "source": [
    "## Weather"
   ]
  },
  {
   "cell_type": "markdown",
   "metadata": {},
   "source": [
    "Weather impacts audio recordings as well."
   ]
  },
  {
   "cell_type": "code",
   "execution_count": null,
   "metadata": {
    "collapsed": true
   },
   "outputs": [],
   "source": []
  }
 ],
 "metadata": {
  "anaconda-cloud": {},
  "kernelspec": {
   "display_name": "Python [default]",
   "language": "python",
   "name": "python3"
  },
  "language_info": {
   "codemirror_mode": {
    "name": "ipython",
    "version": 3
   },
   "file_extension": ".py",
   "mimetype": "text/x-python",
   "name": "python",
   "nbconvert_exporter": "python",
   "pygments_lexer": "ipython3",
   "version": "3.5.2"
  }
 },
 "nbformat": 4,
 "nbformat_minor": 1
}
