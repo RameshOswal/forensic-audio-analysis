{
 "cells": [
  {
   "cell_type": "code",
   "execution_count": null,
   "metadata": {
    "collapsed": true
   },
   "outputs": [],
   "source": [
    "def downsampleWav(src, dst, inrate=44100, outrate=16000, inchannels=2, outchannels=1):\n",
    "    # source: https://stackoverflow.com/questions/30619740/python-downsampling-wav-audio-file\n",
    "    \n",
    "    if not os.path.exists(src):\n",
    "        print 'Source not found!'\n",
    "        return False\n",
    "\n",
    "    if not os.path.exists(os.path.dirname(dst)):\n",
    "        os.makedirs(os.path.dirname(dst))\n",
    "\n",
    "    try:\n",
    "        s_read = wave.open(src, 'r')\n",
    "        s_write = wave.open(dst, 'w')\n",
    "    except:\n",
    "        print 'Failed to open files!'\n",
    "        return False\n",
    "\n",
    "    n_frames = s_read.getnframes()\n",
    "    data = s_read.readframes(n_frames)\n",
    "\n",
    "    try:\n",
    "        converted = audioop.ratecv(data, 2, inchannels, inrate, outrate, None)\n",
    "        if outchannels == 1:\n",
    "            converted = audioop.tomono(converted[0], 2, 1, 0)\n",
    "    except:\n",
    "        print 'Failed to downsample wav'\n",
    "        return False\n",
    "\n",
    "    try:\n",
    "        s_write.setparams((outchannels, 2, outrate, 0, 'NONE', 'Uncompressed'))\n",
    "        s_write.writeframes(converted)\n",
    "    except:\n",
    "        print 'Failed to write wav'\n",
    "        return False\n",
    "\n",
    "    try:\n",
    "        s_read.close()\n",
    "        s_write.close()\n",
    "    except:\n",
    "        print 'Failed to close wav files'\n",
    "        return False\n",
    "\n",
    "    return True"
   ]
  }
 ],
 "metadata": {
  "kernelspec": {
   "display_name": "Python 3",
   "language": "python",
   "name": "python3"
  },
  "language_info": {
   "codemirror_mode": {
    "name": "ipython",
    "version": 3
   },
   "file_extension": ".py",
   "mimetype": "text/x-python",
   "name": "python",
   "nbconvert_exporter": "python",
   "pygments_lexer": "ipython3",
   "version": "3.6.2"
  }
 },
 "nbformat": 4,
 "nbformat_minor": 2
}
