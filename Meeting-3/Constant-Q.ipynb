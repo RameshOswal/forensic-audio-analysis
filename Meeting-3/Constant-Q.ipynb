{
 "cells": [
  {
   "cell_type": "code",
   "execution_count": 1,
   "metadata": {
    "collapsed": false
   },
   "outputs": [
    {
     "data": {
      "text/latex": [
       "\\begin{align}\n",
       "X^{cq}[k_{cq} ] = \\sum_{n=0}^{N[k_eq]-1} w[n,k_{cq}]x[n]e^{-j\\Omega_{k_{cq}^n}}\n",
       "\\end{align}"
      ],
      "text/plain": [
       "<IPython.core.display.Latex object>"
      ]
     },
     "metadata": {},
     "output_type": "display_data"
    }
   ],
   "source": [
    "%%latex\n",
    "\\begin{align}\n",
    "X^{cq}[k_{cq} ] = \\sum_{n=0}^{N[k_eq]-1} w[n,k_{cq}]x[n]e^{-j\\Omega_{k_{cq}^n}}\n",
    "\\end{align}"
   ]
  },
  {
   "cell_type": "code",
   "execution_count": 2,
   "metadata": {
    "collapsed": true
   },
   "outputs": [],
   "source": [
    "import librosa, librosa.display\n",
    "import numpy as np"
   ]
  },
  {
   "cell_type": "code",
   "execution_count": 3,
   "metadata": {
    "collapsed": false
   },
   "outputs": [
    {
     "name": "stdout",
     "output_type": "stream",
     "text": [
      "1 read\n",
      "1 read\n",
      "1 read\n",
      "1 read\n",
      "1 read\n",
      "1 read\n",
      "1 read\n",
      "1 read\n",
      "1 read\n",
      "1 read\n",
      "1 read\n",
      "1 read\n",
      "1 read\n",
      "1 read\n",
      "1 read\n",
      "1 read\n",
      "1 read\n",
      "1 read\n",
      "1 read\n",
      "1 read\n"
     ]
    }
   ],
   "source": [
    "import matplotlib.pyplot as plt\n",
    "X = []\n",
    "Y = []\n",
    "for i in range(10):\n",
    "    filename = \"../../heli_and_boat.tar/heli\" + str(i) + \"_short.wav\"\n",
    "    y, sr = librosa.load(filename)\n",
    "    C = librosa.cqt(y, sr=sr)\n",
    "    X.append(np.ravel(C))\n",
    "    Y.append(filename.split(\"/\")[-1])\n",
    "    print(\"1 read\")\n",
    "    filename = \"../../heli_and_boat.tar/boat\" + str(i) + \"_short.wav\"\n",
    "    y, sr = librosa.load(filename)\n",
    "    C = librosa.cqt(y, sr=sr)\n",
    "    X.append(np.ravel(C))\n",
    "    Y.append(filename.split(\"/\")[-1])\n",
    "    print(\"1 read\")"
   ]
  },
  {
   "cell_type": "code",
   "execution_count": 4,
   "metadata": {
    "collapsed": false
   },
   "outputs": [],
   "source": [
    "X_new = []\n",
    "for x in X:\n",
    "    #zeros = [0]*(4021668-len(x))\n",
    "    #X_new.append(np.concatenate((x,zeros)))\n",
    "    X_new.append(x)\n",
    "Y_new = np.array(Y)  "
   ]
  },
  {
   "cell_type": "code",
   "execution_count": 5,
   "metadata": {
    "collapsed": false
   },
   "outputs": [
    {
     "data": {
      "text/plain": [
       "array(['heli0_short.wav', 'boat0_short.wav', 'heli1_short.wav',\n",
       "       'boat1_short.wav', 'heli2_short.wav', 'boat2_short.wav',\n",
       "       'heli3_short.wav', 'boat3_short.wav', 'heli4_short.wav',\n",
       "       'boat4_short.wav', 'heli5_short.wav', 'boat5_short.wav',\n",
       "       'heli6_short.wav', 'boat6_short.wav', 'heli7_short.wav',\n",
       "       'boat7_short.wav', 'heli8_short.wav', 'boat8_short.wav',\n",
       "       'heli9_short.wav', 'boat9_short.wav'], \n",
       "      dtype='|S15')"
      ]
     },
     "execution_count": 5,
     "metadata": {},
     "output_type": "execute_result"
    }
   ],
   "source": [
    "Y_new"
   ]
  },
  {
   "cell_type": "code",
   "execution_count": 6,
   "metadata": {
    "collapsed": false
   },
   "outputs": [],
   "source": [
    "np.savetxt(\"../../heli_and_boat.tar/X_short_Cont_Qs.train\",X_new,delimiter=\",\")\n",
    "np.savetxt(\"../../heli_and_boat.tar/Y_short_Cont_Qs.train\",Y_new,delimiter=\",\",fmt=\"%s\")"
   ]
  },
  {
   "cell_type": "code",
   "execution_count": 13,
   "metadata": {
    "collapsed": false
   },
   "outputs": [
    {
     "name": "stdout",
     "output_type": "stream",
     "text": [
      "Automatically created module for IPython interactive environment\n",
      "t-SNE: 0.14 sec\n"
     ]
    },
    {
     "data": {
      "image/png": "[encoded data removed]",
      "text/plain": [
       "<matplotlib.figure.Figure at 0x10dfa8d0>"
      ]
     },
     "metadata": {},
     "output_type": "display_data"
    }
   ],
   "source": [
    "print(__doc__)\n",
    "\n",
    "from time import time\n",
    "\n",
    "import numpy as np\n",
    "import matplotlib.pyplot as plt\n",
    "from mpl_toolkits.mplot3d import Axes3D\n",
    "from matplotlib.ticker import NullFormatter\n",
    "\n",
    "from sklearn import manifold\n",
    "from sklearn.utils import check_random_state\n",
    "\n",
    "# Next line to silence pyflakes.\n",
    "Axes3D\n",
    "fig = plt.figure()\n",
    "ax = fig\n",
    "t0 = time()\n",
    "tsne = manifold.TSNE(n_components=2, init='pca', random_state=0)\n",
    "trans_data = tsne.fit_transform(X_new).T\n",
    "t1 = time()\n",
    "print(\"t-SNE: %.2g sec\" % (t1 - t0))\n",
    "\n",
    "plt.scatter(trans_data[0], trans_data[1], color = [ \"r\" if i%2==0 else \"g\" for i in range(trans_data.shape[1])], cmap=plt.cm.rainbow)\n",
    "plt.title(\"t-SNE (%.2g sec)\" % (t1 - t0))\n",
    "plt.axis('tight')\n",
    "plt.show()"
   ]
  },
  {
   "cell_type": "code",
   "execution_count": null,
   "metadata": {
    "collapsed": true
   },
   "outputs": [],
   "source": []
  }
 ],
 "metadata": {
  "kernelspec": {
   "display_name": "Python 2",
   "language": "python",
   "name": "python2"
  },
  "language_info": {
   "codemirror_mode": {
    "name": "ipython",
    "version": 2
   },
   "file_extension": ".py",
   "mimetype": "text/x-python",
   "name": "python",
   "nbconvert_exporter": "python",
   "pygments_lexer": "ipython2",
   "version": "2.7.13"
  }
 },
 "nbformat": 4,
 "nbformat_minor": 2
}
