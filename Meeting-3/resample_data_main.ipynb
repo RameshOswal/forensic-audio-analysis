{
 "cells": [
  {
   "cell_type": "markdown",
   "metadata": {},
   "source": [
    "This file reads audiofiles and resample to the same minimum sampling rate"
   ]
  },
  {
   "cell_type": "code",
   "execution_count": 23,
   "metadata": {},
   "outputs": [],
   "source": [
    "import scipy.io.wavfile\n",
    "import librosa"
   ]
  },
  {
   "cell_type": "code",
   "execution_count": 33,
   "metadata": {},
   "outputs": [
    {
     "name": "stdout",
     "output_type": "stream",
     "text": [
      "1\n",
      "1\n",
      "1\n",
      "1\n",
      "1\n",
      "1\n",
      "1\n",
      "1\n",
      "1\n",
      "1\n"
     ]
    },
    {
     "name": "stderr",
     "output_type": "stream",
     "text": [
      "/anaconda3/lib/python3.6/site-packages/scipy/io/wavfile.py:273: WavFileWarning: Chunk (non-data) not understood, skipping it.\n",
      "  WavFileWarning)\n"
     ]
    }
   ],
   "source": [
    "rate = []\n",
    "for i in range(10):\n",
    "    hr,_ = scipy.io.wavfile.read(\"heli\" + str(i) + \"_short.wav\")\n",
    "    print(\"1\")\n",
    "    br,_ = scipy.io.wavfile.read(\"boat\" + str(i) + \"_short.wav\")\n",
    "    rate.append(br)\n",
    "    rate.append(hr)"
   ]
  },
  {
   "cell_type": "code",
   "execution_count": 34,
   "metadata": {},
   "outputs": [],
   "source": [
    "sampling_rate = min(rate)\n",
    "duration = 10"
   ]
  },
  {
   "cell_type": "code",
   "execution_count": 35,
   "metadata": {},
   "outputs": [
    {
     "name": "stdout",
     "output_type": "stream",
     "text": [
      "heli0_short.wav\n",
      "boat0_short.wav\n",
      "heli1_short.wav\n",
      "boat1_short.wav\n",
      "heli2_short.wav\n",
      "boat2_short.wav\n",
      "heli3_short.wav\n",
      "boat3_short.wav\n",
      "heli4_short.wav\n",
      "boat4_short.wav\n",
      "heli5_short.wav\n",
      "boat5_short.wav\n",
      "heli6_short.wav\n",
      "boat6_short.wav\n",
      "heli7_short.wav\n",
      "boat7_short.wav\n",
      "heli8_short.wav\n",
      "boat8_short.wav\n",
      "heli9_short.wav\n",
      "boat9_short.wav\n"
     ]
    }
   ],
   "source": [
    "for i in range(10):\n",
    "    h_filename = \"heli\" + str(i) + \"_short.wav\"\n",
    "    raw_data_hel = librosa.load(h_filename, sr=sampling_rate, duration=duration)\n",
    "    print(h_filename)\n",
    "    b_filename = \"boat\" + str(i) + \"_short.wav\"\n",
    "    raw_data_b = librosa.load(b_filename, sr=sampling_rate, duration=duration)\n",
    "    print(b_filename)"
   ]
  },
  {
   "cell_type": "code",
   "execution_count": null,
   "metadata": {
    "collapsed": true
   },
   "outputs": [],
   "source": []
  }
 ],
 "metadata": {
  "kernelspec": {
   "display_name": "Python 3",
   "language": "python",
   "name": "python3"
  },
  "language_info": {
   "codemirror_mode": {
    "name": "ipython",
    "version": 3
   },
   "file_extension": ".py",
   "mimetype": "text/x-python",
   "name": "python",
   "nbconvert_exporter": "python",
   "pygments_lexer": "ipython3",
   "version": "3.6.2"
  }
 },
 "nbformat": 4,
 "nbformat_minor": 2
}
